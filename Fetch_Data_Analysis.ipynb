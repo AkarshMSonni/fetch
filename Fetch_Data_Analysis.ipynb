{
  "nbformat": 4,
  "nbformat_minor": 0,
  "metadata": {
    "colab": {
      "provenance": [],
      "mount_file_id": "1N4doqlyGQDVOYqaeyOH_9-7nhCt4cwQ6",
      "authorship_tag": "ABX9TyOy8dTNS/l/5ScRvgOLgfJn",
      "include_colab_link": true
    },
    "kernelspec": {
      "name": "python3",
      "display_name": "Python 3"
    },
    "language_info": {
      "name": "python"
    }
  },
  "cells": [
    {
      "cell_type": "markdown",
      "metadata": {
        "id": "view-in-github",
        "colab_type": "text"
      },
      "source": [
        "<a href=\"https://colab.research.google.com/github/AkarshMSonni/fetch/blob/main/Fetch_Data_Analysis.ipynb\" target=\"_parent\"><img src=\"https://colab.research.google.com/assets/colab-badge.svg\" alt=\"Open In Colab\"/></a>"
      ]
    },
    {
      "cell_type": "markdown",
      "source": [
        "# Q1. Inspect the unstructured JSON data and draw an ER Diagram"
      ],
      "metadata": {
        "id": "bDC0SRQboBku"
      }
    },
    {
      "cell_type": "markdown",
      "source": [
        "Converting unstructured data to a dataframe to review"
      ],
      "metadata": {
        "id": "eWDePH2ndfId"
      }
    },
    {
      "cell_type": "code",
      "execution_count": 1,
      "metadata": {
        "id": "CGYYG5QzISbe"
      },
      "outputs": [],
      "source": [
        "#Importing libraries\n",
        "import pandas as pd\n",
        "import json\n",
        "from ast import literal_eval\n"
      ]
    },
    {
      "cell_type": "markdown",
      "source": [
        "Normalizing and reading the Receipts table"
      ],
      "metadata": {
        "id": "xXjqRRiwgDzN"
      }
    },
    {
      "cell_type": "code",
      "source": [
        "# Read the JSON file with one JSON object per line\n",
        "with open('/content/drive/MyDrive/Fetch Sample Data/receipts.json') as f:\n",
        "    lines = f.readlines()\n",
        "\n",
        "# Normalize each JSON object and convert date columns\n",
        "normalized_data = []\n",
        "for line in lines:\n",
        "    data = json.loads(line)\n",
        "    df_receipts = pd.json_normalize(data)\n",
        "\n",
        "    # Convert specific date columns to datetime format\n",
        "    date_columns = ['createDate.$date', 'dateScanned.$date', 'finishedDate.$date', 'modifyDate.$date', 'pointsAwardedDate.$date', 'purchaseDate.$date']\n",
        "    for column in date_columns:\n",
        "        if column in df_receipts.columns:\n",
        "            df_receipts[column] = pd.to_datetime(df_receipts[column]/1000, unit='s')\n",
        "\n",
        "    normalized_data.append(df_receipts)\n",
        "\n",
        "# Concatenate all normalized DataFrames\n",
        "df_receipts = pd.concat(normalized_data, ignore_index=True)\n",
        "\n",
        "# Print the resulting DataFrame\n",
        "df_receipts.head(5)\n"
      ],
      "metadata": {
        "colab": {
          "base_uri": "https://localhost:8080/",
          "height": 357
        },
        "id": "ZIbJsXXdOU3i",
        "outputId": "b6afb810-5a25-48de-df31-b5436ff9b04e"
      },
      "execution_count": 2,
      "outputs": [
        {
          "output_type": "execute_result",
          "data": {
            "text/plain": [
              "   bonusPointsEarned                            bonusPointsEarnedReason  \\\n",
              "0              500.0  Receipt number 2 completed, bonus point schedu...   \n",
              "1              150.0  Receipt number 5 completed, bonus point schedu...   \n",
              "2                5.0                         All-receipts receipt bonus   \n",
              "3                5.0                         All-receipts receipt bonus   \n",
              "4                5.0                         All-receipts receipt bonus   \n",
              "\n",
              "  pointsEarned  purchasedItemCount  \\\n",
              "0        500.0                 5.0   \n",
              "1        150.0                 2.0   \n",
              "2            5                 1.0   \n",
              "3          5.0                 4.0   \n",
              "4          5.0                 2.0   \n",
              "\n",
              "                              rewardsReceiptItemList rewardsReceiptStatus  \\\n",
              "0  [{'barcode': '4011', 'description': 'ITEM NOT ...             FINISHED   \n",
              "1  [{'barcode': '4011', 'description': 'ITEM NOT ...             FINISHED   \n",
              "2  [{'needsFetchReview': False, 'partnerItemId': ...             REJECTED   \n",
              "3  [{'barcode': '4011', 'description': 'ITEM NOT ...             FINISHED   \n",
              "4  [{'barcode': '4011', 'description': 'ITEM NOT ...             FINISHED   \n",
              "\n",
              "  totalSpent                    userId                  _id.$oid  \\\n",
              "0      26.00  5ff1e1eacfcf6c399c274ae6  5ff1e1eb0a720f0523000575   \n",
              "1      11.00  5ff1e194b6a9d73a3a9f1052  5ff1e1bb0a720f052300056b   \n",
              "2      10.00  5ff1e1f1cfcf6c399c274b0b  5ff1e1f10a720f052300057a   \n",
              "3      28.00  5ff1e1eacfcf6c399c274ae6  5ff1e1ee0a7214ada100056f   \n",
              "4       1.00  5ff1e194b6a9d73a3a9f1052  5ff1e1d20a7214ada1000561   \n",
              "\n",
              "     createDate.$date   dateScanned.$date  finishedDate.$date  \\\n",
              "0 2021-01-03 15:25:31 2021-01-03 15:25:31 2021-01-03 15:25:31   \n",
              "1 2021-01-03 15:24:43 2021-01-03 15:24:43 2021-01-03 15:24:43   \n",
              "2 2021-01-03 15:25:37 2021-01-03 15:25:37                 NaT   \n",
              "3 2021-01-03 15:25:34 2021-01-03 15:25:34 2021-01-03 15:25:34   \n",
              "4 2021-01-03 15:25:06 2021-01-03 15:25:06 2021-01-03 15:25:11   \n",
              "\n",
              "     modifyDate.$date pointsAwardedDate.$date  purchaseDate.$date  \n",
              "0 2021-01-03 15:25:36     2021-01-03 15:25:31 2021-01-03 00:00:00  \n",
              "1 2021-01-03 15:24:48     2021-01-03 15:24:43 2021-01-02 15:24:43  \n",
              "2 2021-01-03 15:25:42                     NaT 2021-01-03 00:00:00  \n",
              "3 2021-01-03 15:25:39     2021-01-03 15:25:34 2021-01-03 00:00:00  \n",
              "4 2021-01-03 15:25:11     2021-01-03 15:25:06 2021-01-02 15:25:06  "
            ],
            "text/html": [
              "\n",
              "\n",
              "  <div id=\"df-15662f1a-d026-47c1-9df0-b39cad155132\">\n",
              "    <div class=\"colab-df-container\">\n",
              "      <div>\n",
              "<style scoped>\n",
              "    .dataframe tbody tr th:only-of-type {\n",
              "        vertical-align: middle;\n",
              "    }\n",
              "\n",
              "    .dataframe tbody tr th {\n",
              "        vertical-align: top;\n",
              "    }\n",
              "\n",
              "    .dataframe thead th {\n",
              "        text-align: right;\n",
              "    }\n",
              "</style>\n",
              "<table border=\"1\" class=\"dataframe\">\n",
              "  <thead>\n",
              "    <tr style=\"text-align: right;\">\n",
              "      <th></th>\n",
              "      <th>bonusPointsEarned</th>\n",
              "      <th>bonusPointsEarnedReason</th>\n",
              "      <th>pointsEarned</th>\n",
              "      <th>purchasedItemCount</th>\n",
              "      <th>rewardsReceiptItemList</th>\n",
              "      <th>rewardsReceiptStatus</th>\n",
              "      <th>totalSpent</th>\n",
              "      <th>userId</th>\n",
              "      <th>_id.$oid</th>\n",
              "      <th>createDate.$date</th>\n",
              "      <th>dateScanned.$date</th>\n",
              "      <th>finishedDate.$date</th>\n",
              "      <th>modifyDate.$date</th>\n",
              "      <th>pointsAwardedDate.$date</th>\n",
              "      <th>purchaseDate.$date</th>\n",
              "    </tr>\n",
              "  </thead>\n",
              "  <tbody>\n",
              "    <tr>\n",
              "      <th>0</th>\n",
              "      <td>500.0</td>\n",
              "      <td>Receipt number 2 completed, bonus point schedu...</td>\n",
              "      <td>500.0</td>\n",
              "      <td>5.0</td>\n",
              "      <td>[{'barcode': '4011', 'description': 'ITEM NOT ...</td>\n",
              "      <td>FINISHED</td>\n",
              "      <td>26.00</td>\n",
              "      <td>5ff1e1eacfcf6c399c274ae6</td>\n",
              "      <td>5ff1e1eb0a720f0523000575</td>\n",
              "      <td>2021-01-03 15:25:31</td>\n",
              "      <td>2021-01-03 15:25:31</td>\n",
              "      <td>2021-01-03 15:25:31</td>\n",
              "      <td>2021-01-03 15:25:36</td>\n",
              "      <td>2021-01-03 15:25:31</td>\n",
              "      <td>2021-01-03 00:00:00</td>\n",
              "    </tr>\n",
              "    <tr>\n",
              "      <th>1</th>\n",
              "      <td>150.0</td>\n",
              "      <td>Receipt number 5 completed, bonus point schedu...</td>\n",
              "      <td>150.0</td>\n",
              "      <td>2.0</td>\n",
              "      <td>[{'barcode': '4011', 'description': 'ITEM NOT ...</td>\n",
              "      <td>FINISHED</td>\n",
              "      <td>11.00</td>\n",
              "      <td>5ff1e194b6a9d73a3a9f1052</td>\n",
              "      <td>5ff1e1bb0a720f052300056b</td>\n",
              "      <td>2021-01-03 15:24:43</td>\n",
              "      <td>2021-01-03 15:24:43</td>\n",
              "      <td>2021-01-03 15:24:43</td>\n",
              "      <td>2021-01-03 15:24:48</td>\n",
              "      <td>2021-01-03 15:24:43</td>\n",
              "      <td>2021-01-02 15:24:43</td>\n",
              "    </tr>\n",
              "    <tr>\n",
              "      <th>2</th>\n",
              "      <td>5.0</td>\n",
              "      <td>All-receipts receipt bonus</td>\n",
              "      <td>5</td>\n",
              "      <td>1.0</td>\n",
              "      <td>[{'needsFetchReview': False, 'partnerItemId': ...</td>\n",
              "      <td>REJECTED</td>\n",
              "      <td>10.00</td>\n",
              "      <td>5ff1e1f1cfcf6c399c274b0b</td>\n",
              "      <td>5ff1e1f10a720f052300057a</td>\n",
              "      <td>2021-01-03 15:25:37</td>\n",
              "      <td>2021-01-03 15:25:37</td>\n",
              "      <td>NaT</td>\n",
              "      <td>2021-01-03 15:25:42</td>\n",
              "      <td>NaT</td>\n",
              "      <td>2021-01-03 00:00:00</td>\n",
              "    </tr>\n",
              "    <tr>\n",
              "      <th>3</th>\n",
              "      <td>5.0</td>\n",
              "      <td>All-receipts receipt bonus</td>\n",
              "      <td>5.0</td>\n",
              "      <td>4.0</td>\n",
              "      <td>[{'barcode': '4011', 'description': 'ITEM NOT ...</td>\n",
              "      <td>FINISHED</td>\n",
              "      <td>28.00</td>\n",
              "      <td>5ff1e1eacfcf6c399c274ae6</td>\n",
              "      <td>5ff1e1ee0a7214ada100056f</td>\n",
              "      <td>2021-01-03 15:25:34</td>\n",
              "      <td>2021-01-03 15:25:34</td>\n",
              "      <td>2021-01-03 15:25:34</td>\n",
              "      <td>2021-01-03 15:25:39</td>\n",
              "      <td>2021-01-03 15:25:34</td>\n",
              "      <td>2021-01-03 00:00:00</td>\n",
              "    </tr>\n",
              "    <tr>\n",
              "      <th>4</th>\n",
              "      <td>5.0</td>\n",
              "      <td>All-receipts receipt bonus</td>\n",
              "      <td>5.0</td>\n",
              "      <td>2.0</td>\n",
              "      <td>[{'barcode': '4011', 'description': 'ITEM NOT ...</td>\n",
              "      <td>FINISHED</td>\n",
              "      <td>1.00</td>\n",
              "      <td>5ff1e194b6a9d73a3a9f1052</td>\n",
              "      <td>5ff1e1d20a7214ada1000561</td>\n",
              "      <td>2021-01-03 15:25:06</td>\n",
              "      <td>2021-01-03 15:25:06</td>\n",
              "      <td>2021-01-03 15:25:11</td>\n",
              "      <td>2021-01-03 15:25:11</td>\n",
              "      <td>2021-01-03 15:25:06</td>\n",
              "      <td>2021-01-02 15:25:06</td>\n",
              "    </tr>\n",
              "  </tbody>\n",
              "</table>\n",
              "</div>\n",
              "      <button class=\"colab-df-convert\" onclick=\"convertToInteractive('df-15662f1a-d026-47c1-9df0-b39cad155132')\"\n",
              "              title=\"Convert this dataframe to an interactive table.\"\n",
              "              style=\"display:none;\">\n",
              "\n",
              "  <svg xmlns=\"http://www.w3.org/2000/svg\" height=\"24px\"viewBox=\"0 0 24 24\"\n",
              "       width=\"24px\">\n",
              "    <path d=\"M0 0h24v24H0V0z\" fill=\"none\"/>\n",
              "    <path d=\"M18.56 5.44l.94 2.06.94-2.06 2.06-.94-2.06-.94-.94-2.06-.94 2.06-2.06.94zm-11 1L8.5 8.5l.94-2.06 2.06-.94-2.06-.94L8.5 2.5l-.94 2.06-2.06.94zm10 10l.94 2.06.94-2.06 2.06-.94-2.06-.94-.94-2.06-.94 2.06-2.06.94z\"/><path d=\"M17.41 7.96l-1.37-1.37c-.4-.4-.92-.59-1.43-.59-.52 0-1.04.2-1.43.59L10.3 9.45l-7.72 7.72c-.78.78-.78 2.05 0 2.83L4 21.41c.39.39.9.59 1.41.59.51 0 1.02-.2 1.41-.59l7.78-7.78 2.81-2.81c.8-.78.8-2.07 0-2.86zM5.41 20L4 18.59l7.72-7.72 1.47 1.35L5.41 20z\"/>\n",
              "  </svg>\n",
              "      </button>\n",
              "\n",
              "\n",
              "\n",
              "    <div id=\"df-738ec3fb-0c06-47f0-b8c2-e9f3b0d5e649\">\n",
              "      <button class=\"colab-df-quickchart\" onclick=\"quickchart('df-738ec3fb-0c06-47f0-b8c2-e9f3b0d5e649')\"\n",
              "              title=\"Suggest charts.\"\n",
              "              style=\"display:none;\">\n",
              "\n",
              "<svg xmlns=\"http://www.w3.org/2000/svg\" height=\"24px\"viewBox=\"0 0 24 24\"\n",
              "     width=\"24px\">\n",
              "    <g>\n",
              "        <path d=\"M19 3H5c-1.1 0-2 .9-2 2v14c0 1.1.9 2 2 2h14c1.1 0 2-.9 2-2V5c0-1.1-.9-2-2-2zM9 17H7v-7h2v7zm4 0h-2V7h2v10zm4 0h-2v-4h2v4z\"/>\n",
              "    </g>\n",
              "</svg>\n",
              "      </button>\n",
              "    </div>\n",
              "\n",
              "<style>\n",
              "  .colab-df-quickchart {\n",
              "    background-color: #E8F0FE;\n",
              "    border: none;\n",
              "    border-radius: 50%;\n",
              "    cursor: pointer;\n",
              "    display: none;\n",
              "    fill: #1967D2;\n",
              "    height: 32px;\n",
              "    padding: 0 0 0 0;\n",
              "    width: 32px;\n",
              "  }\n",
              "\n",
              "  .colab-df-quickchart:hover {\n",
              "    background-color: #E2EBFA;\n",
              "    box-shadow: 0px 1px 2px rgba(60, 64, 67, 0.3), 0px 1px 3px 1px rgba(60, 64, 67, 0.15);\n",
              "    fill: #174EA6;\n",
              "  }\n",
              "\n",
              "  [theme=dark] .colab-df-quickchart {\n",
              "    background-color: #3B4455;\n",
              "    fill: #D2E3FC;\n",
              "  }\n",
              "\n",
              "  [theme=dark] .colab-df-quickchart:hover {\n",
              "    background-color: #434B5C;\n",
              "    box-shadow: 0px 1px 3px 1px rgba(0, 0, 0, 0.15);\n",
              "    filter: drop-shadow(0px 1px 2px rgba(0, 0, 0, 0.3));\n",
              "    fill: #FFFFFF;\n",
              "  }\n",
              "</style>\n",
              "\n",
              "    <script>\n",
              "      async function quickchart(key) {\n",
              "        const containerElement = document.querySelector('#' + key);\n",
              "        const charts = await google.colab.kernel.invokeFunction(\n",
              "            'suggestCharts', [key], {});\n",
              "      }\n",
              "    </script>\n",
              "\n",
              "      <script>\n",
              "\n",
              "function displayQuickchartButton(domScope) {\n",
              "  let quickchartButtonEl =\n",
              "    domScope.querySelector('#df-738ec3fb-0c06-47f0-b8c2-e9f3b0d5e649 button.colab-df-quickchart');\n",
              "  quickchartButtonEl.style.display =\n",
              "    google.colab.kernel.accessAllowed ? 'block' : 'none';\n",
              "}\n",
              "\n",
              "        displayQuickchartButton(document);\n",
              "      </script>\n",
              "      <style>\n",
              "    .colab-df-container {\n",
              "      display:flex;\n",
              "      flex-wrap:wrap;\n",
              "      gap: 12px;\n",
              "    }\n",
              "\n",
              "    .colab-df-convert {\n",
              "      background-color: #E8F0FE;\n",
              "      border: none;\n",
              "      border-radius: 50%;\n",
              "      cursor: pointer;\n",
              "      display: none;\n",
              "      fill: #1967D2;\n",
              "      height: 32px;\n",
              "      padding: 0 0 0 0;\n",
              "      width: 32px;\n",
              "    }\n",
              "\n",
              "    .colab-df-convert:hover {\n",
              "      background-color: #E2EBFA;\n",
              "      box-shadow: 0px 1px 2px rgba(60, 64, 67, 0.3), 0px 1px 3px 1px rgba(60, 64, 67, 0.15);\n",
              "      fill: #174EA6;\n",
              "    }\n",
              "\n",
              "    [theme=dark] .colab-df-convert {\n",
              "      background-color: #3B4455;\n",
              "      fill: #D2E3FC;\n",
              "    }\n",
              "\n",
              "    [theme=dark] .colab-df-convert:hover {\n",
              "      background-color: #434B5C;\n",
              "      box-shadow: 0px 1px 3px 1px rgba(0, 0, 0, 0.15);\n",
              "      filter: drop-shadow(0px 1px 2px rgba(0, 0, 0, 0.3));\n",
              "      fill: #FFFFFF;\n",
              "    }\n",
              "  </style>\n",
              "\n",
              "      <script>\n",
              "        const buttonEl =\n",
              "          document.querySelector('#df-15662f1a-d026-47c1-9df0-b39cad155132 button.colab-df-convert');\n",
              "        buttonEl.style.display =\n",
              "          google.colab.kernel.accessAllowed ? 'block' : 'none';\n",
              "\n",
              "        async function convertToInteractive(key) {\n",
              "          const element = document.querySelector('#df-15662f1a-d026-47c1-9df0-b39cad155132');\n",
              "          const dataTable =\n",
              "            await google.colab.kernel.invokeFunction('convertToInteractive',\n",
              "                                                     [key], {});\n",
              "          if (!dataTable) return;\n",
              "\n",
              "          const docLinkHtml = 'Like what you see? Visit the ' +\n",
              "            '<a target=\"_blank\" href=https://colab.research.google.com/notebooks/data_table.ipynb>data table notebook</a>'\n",
              "            + ' to learn more about interactive tables.';\n",
              "          element.innerHTML = '';\n",
              "          dataTable['output_type'] = 'display_data';\n",
              "          await google.colab.output.renderOutput(dataTable, element);\n",
              "          const docLink = document.createElement('div');\n",
              "          docLink.innerHTML = docLinkHtml;\n",
              "          element.appendChild(docLink);\n",
              "        }\n",
              "      </script>\n",
              "    </div>\n",
              "  </div>\n"
            ]
          },
          "metadata": {},
          "execution_count": 2
        }
      ]
    },
    {
      "cell_type": "markdown",
      "source": [
        "Need to further normalize the rewardsReceiptItemList column"
      ],
      "metadata": {
        "id": "gYgBCj7jlaqt"
      }
    },
    {
      "cell_type": "code",
      "source": [
        "df_receipts = df_receipts.explode('rewardsReceiptItemList')\n",
        "df_receipts.reset_index(inplace=True)"
      ],
      "metadata": {
        "id": "7wsMIo4ckhmX"
      },
      "execution_count": 3,
      "outputs": []
    },
    {
      "cell_type": "code",
      "source": [
        "df_receipts = df_receipts.fillna({'rewardsReceiptItemList':'{}'})\n",
        "df_receipts['rewardsReceiptItemList'] = df_receipts['rewardsReceiptItemList'].apply(lambda x:str(x))\n",
        "df_receipts['rewardsReceiptItemList'] = df_receipts['rewardsReceiptItemList'].apply(literal_eval)"
      ],
      "metadata": {
        "id": "Q8Ez5RUJjEvT"
      },
      "execution_count": 4,
      "outputs": []
    },
    {
      "cell_type": "code",
      "source": [
        "df_receipts.head(5)"
      ],
      "metadata": {
        "colab": {
          "base_uri": "https://localhost:8080/",
          "height": 357
        },
        "id": "TqaweLTWjd1n",
        "outputId": "19b9bd9c-1aa5-4fad-bd0f-8a5316d886e7"
      },
      "execution_count": 5,
      "outputs": [
        {
          "output_type": "execute_result",
          "data": {
            "text/plain": [
              "   index  bonusPointsEarned  \\\n",
              "0      0              500.0   \n",
              "1      1              150.0   \n",
              "2      1              150.0   \n",
              "3      2                5.0   \n",
              "4      3                5.0   \n",
              "\n",
              "                             bonusPointsEarnedReason pointsEarned  \\\n",
              "0  Receipt number 2 completed, bonus point schedu...        500.0   \n",
              "1  Receipt number 5 completed, bonus point schedu...        150.0   \n",
              "2  Receipt number 5 completed, bonus point schedu...        150.0   \n",
              "3                         All-receipts receipt bonus            5   \n",
              "4                         All-receipts receipt bonus          5.0   \n",
              "\n",
              "   purchasedItemCount                             rewardsReceiptItemList  \\\n",
              "0                 5.0  {'barcode': '4011', 'description': 'ITEM NOT F...   \n",
              "1                 2.0  {'barcode': '4011', 'description': 'ITEM NOT F...   \n",
              "2                 2.0  {'barcode': '028400642255', 'description': 'DO...   \n",
              "3                 1.0  {'needsFetchReview': False, 'partnerItemId': '...   \n",
              "4                 4.0  {'barcode': '4011', 'description': 'ITEM NOT F...   \n",
              "\n",
              "  rewardsReceiptStatus totalSpent                    userId  \\\n",
              "0             FINISHED      26.00  5ff1e1eacfcf6c399c274ae6   \n",
              "1             FINISHED      11.00  5ff1e194b6a9d73a3a9f1052   \n",
              "2             FINISHED      11.00  5ff1e194b6a9d73a3a9f1052   \n",
              "3             REJECTED      10.00  5ff1e1f1cfcf6c399c274b0b   \n",
              "4             FINISHED      28.00  5ff1e1eacfcf6c399c274ae6   \n",
              "\n",
              "                   _id.$oid    createDate.$date   dateScanned.$date  \\\n",
              "0  5ff1e1eb0a720f0523000575 2021-01-03 15:25:31 2021-01-03 15:25:31   \n",
              "1  5ff1e1bb0a720f052300056b 2021-01-03 15:24:43 2021-01-03 15:24:43   \n",
              "2  5ff1e1bb0a720f052300056b 2021-01-03 15:24:43 2021-01-03 15:24:43   \n",
              "3  5ff1e1f10a720f052300057a 2021-01-03 15:25:37 2021-01-03 15:25:37   \n",
              "4  5ff1e1ee0a7214ada100056f 2021-01-03 15:25:34 2021-01-03 15:25:34   \n",
              "\n",
              "   finishedDate.$date    modifyDate.$date pointsAwardedDate.$date  \\\n",
              "0 2021-01-03 15:25:31 2021-01-03 15:25:36     2021-01-03 15:25:31   \n",
              "1 2021-01-03 15:24:43 2021-01-03 15:24:48     2021-01-03 15:24:43   \n",
              "2 2021-01-03 15:24:43 2021-01-03 15:24:48     2021-01-03 15:24:43   \n",
              "3                 NaT 2021-01-03 15:25:42                     NaT   \n",
              "4 2021-01-03 15:25:34 2021-01-03 15:25:39     2021-01-03 15:25:34   \n",
              "\n",
              "   purchaseDate.$date  \n",
              "0 2021-01-03 00:00:00  \n",
              "1 2021-01-02 15:24:43  \n",
              "2 2021-01-02 15:24:43  \n",
              "3 2021-01-03 00:00:00  \n",
              "4 2021-01-03 00:00:00  "
            ],
            "text/html": [
              "\n",
              "\n",
              "  <div id=\"df-124929d0-c42f-41b9-9775-40f6b42f8c12\">\n",
              "    <div class=\"colab-df-container\">\n",
              "      <div>\n",
              "<style scoped>\n",
              "    .dataframe tbody tr th:only-of-type {\n",
              "        vertical-align: middle;\n",
              "    }\n",
              "\n",
              "    .dataframe tbody tr th {\n",
              "        vertical-align: top;\n",
              "    }\n",
              "\n",
              "    .dataframe thead th {\n",
              "        text-align: right;\n",
              "    }\n",
              "</style>\n",
              "<table border=\"1\" class=\"dataframe\">\n",
              "  <thead>\n",
              "    <tr style=\"text-align: right;\">\n",
              "      <th></th>\n",
              "      <th>index</th>\n",
              "      <th>bonusPointsEarned</th>\n",
              "      <th>bonusPointsEarnedReason</th>\n",
              "      <th>pointsEarned</th>\n",
              "      <th>purchasedItemCount</th>\n",
              "      <th>rewardsReceiptItemList</th>\n",
              "      <th>rewardsReceiptStatus</th>\n",
              "      <th>totalSpent</th>\n",
              "      <th>userId</th>\n",
              "      <th>_id.$oid</th>\n",
              "      <th>createDate.$date</th>\n",
              "      <th>dateScanned.$date</th>\n",
              "      <th>finishedDate.$date</th>\n",
              "      <th>modifyDate.$date</th>\n",
              "      <th>pointsAwardedDate.$date</th>\n",
              "      <th>purchaseDate.$date</th>\n",
              "    </tr>\n",
              "  </thead>\n",
              "  <tbody>\n",
              "    <tr>\n",
              "      <th>0</th>\n",
              "      <td>0</td>\n",
              "      <td>500.0</td>\n",
              "      <td>Receipt number 2 completed, bonus point schedu...</td>\n",
              "      <td>500.0</td>\n",
              "      <td>5.0</td>\n",
              "      <td>{'barcode': '4011', 'description': 'ITEM NOT F...</td>\n",
              "      <td>FINISHED</td>\n",
              "      <td>26.00</td>\n",
              "      <td>5ff1e1eacfcf6c399c274ae6</td>\n",
              "      <td>5ff1e1eb0a720f0523000575</td>\n",
              "      <td>2021-01-03 15:25:31</td>\n",
              "      <td>2021-01-03 15:25:31</td>\n",
              "      <td>2021-01-03 15:25:31</td>\n",
              "      <td>2021-01-03 15:25:36</td>\n",
              "      <td>2021-01-03 15:25:31</td>\n",
              "      <td>2021-01-03 00:00:00</td>\n",
              "    </tr>\n",
              "    <tr>\n",
              "      <th>1</th>\n",
              "      <td>1</td>\n",
              "      <td>150.0</td>\n",
              "      <td>Receipt number 5 completed, bonus point schedu...</td>\n",
              "      <td>150.0</td>\n",
              "      <td>2.0</td>\n",
              "      <td>{'barcode': '4011', 'description': 'ITEM NOT F...</td>\n",
              "      <td>FINISHED</td>\n",
              "      <td>11.00</td>\n",
              "      <td>5ff1e194b6a9d73a3a9f1052</td>\n",
              "      <td>5ff1e1bb0a720f052300056b</td>\n",
              "      <td>2021-01-03 15:24:43</td>\n",
              "      <td>2021-01-03 15:24:43</td>\n",
              "      <td>2021-01-03 15:24:43</td>\n",
              "      <td>2021-01-03 15:24:48</td>\n",
              "      <td>2021-01-03 15:24:43</td>\n",
              "      <td>2021-01-02 15:24:43</td>\n",
              "    </tr>\n",
              "    <tr>\n",
              "      <th>2</th>\n",
              "      <td>1</td>\n",
              "      <td>150.0</td>\n",
              "      <td>Receipt number 5 completed, bonus point schedu...</td>\n",
              "      <td>150.0</td>\n",
              "      <td>2.0</td>\n",
              "      <td>{'barcode': '028400642255', 'description': 'DO...</td>\n",
              "      <td>FINISHED</td>\n",
              "      <td>11.00</td>\n",
              "      <td>5ff1e194b6a9d73a3a9f1052</td>\n",
              "      <td>5ff1e1bb0a720f052300056b</td>\n",
              "      <td>2021-01-03 15:24:43</td>\n",
              "      <td>2021-01-03 15:24:43</td>\n",
              "      <td>2021-01-03 15:24:43</td>\n",
              "      <td>2021-01-03 15:24:48</td>\n",
              "      <td>2021-01-03 15:24:43</td>\n",
              "      <td>2021-01-02 15:24:43</td>\n",
              "    </tr>\n",
              "    <tr>\n",
              "      <th>3</th>\n",
              "      <td>2</td>\n",
              "      <td>5.0</td>\n",
              "      <td>All-receipts receipt bonus</td>\n",
              "      <td>5</td>\n",
              "      <td>1.0</td>\n",
              "      <td>{'needsFetchReview': False, 'partnerItemId': '...</td>\n",
              "      <td>REJECTED</td>\n",
              "      <td>10.00</td>\n",
              "      <td>5ff1e1f1cfcf6c399c274b0b</td>\n",
              "      <td>5ff1e1f10a720f052300057a</td>\n",
              "      <td>2021-01-03 15:25:37</td>\n",
              "      <td>2021-01-03 15:25:37</td>\n",
              "      <td>NaT</td>\n",
              "      <td>2021-01-03 15:25:42</td>\n",
              "      <td>NaT</td>\n",
              "      <td>2021-01-03 00:00:00</td>\n",
              "    </tr>\n",
              "    <tr>\n",
              "      <th>4</th>\n",
              "      <td>3</td>\n",
              "      <td>5.0</td>\n",
              "      <td>All-receipts receipt bonus</td>\n",
              "      <td>5.0</td>\n",
              "      <td>4.0</td>\n",
              "      <td>{'barcode': '4011', 'description': 'ITEM NOT F...</td>\n",
              "      <td>FINISHED</td>\n",
              "      <td>28.00</td>\n",
              "      <td>5ff1e1eacfcf6c399c274ae6</td>\n",
              "      <td>5ff1e1ee0a7214ada100056f</td>\n",
              "      <td>2021-01-03 15:25:34</td>\n",
              "      <td>2021-01-03 15:25:34</td>\n",
              "      <td>2021-01-03 15:25:34</td>\n",
              "      <td>2021-01-03 15:25:39</td>\n",
              "      <td>2021-01-03 15:25:34</td>\n",
              "      <td>2021-01-03 00:00:00</td>\n",
              "    </tr>\n",
              "  </tbody>\n",
              "</table>\n",
              "</div>\n",
              "      <button class=\"colab-df-convert\" onclick=\"convertToInteractive('df-124929d0-c42f-41b9-9775-40f6b42f8c12')\"\n",
              "              title=\"Convert this dataframe to an interactive table.\"\n",
              "              style=\"display:none;\">\n",
              "\n",
              "  <svg xmlns=\"http://www.w3.org/2000/svg\" height=\"24px\"viewBox=\"0 0 24 24\"\n",
              "       width=\"24px\">\n",
              "    <path d=\"M0 0h24v24H0V0z\" fill=\"none\"/>\n",
              "    <path d=\"M18.56 5.44l.94 2.06.94-2.06 2.06-.94-2.06-.94-.94-2.06-.94 2.06-2.06.94zm-11 1L8.5 8.5l.94-2.06 2.06-.94-2.06-.94L8.5 2.5l-.94 2.06-2.06.94zm10 10l.94 2.06.94-2.06 2.06-.94-2.06-.94-.94-2.06-.94 2.06-2.06.94z\"/><path d=\"M17.41 7.96l-1.37-1.37c-.4-.4-.92-.59-1.43-.59-.52 0-1.04.2-1.43.59L10.3 9.45l-7.72 7.72c-.78.78-.78 2.05 0 2.83L4 21.41c.39.39.9.59 1.41.59.51 0 1.02-.2 1.41-.59l7.78-7.78 2.81-2.81c.8-.78.8-2.07 0-2.86zM5.41 20L4 18.59l7.72-7.72 1.47 1.35L5.41 20z\"/>\n",
              "  </svg>\n",
              "      </button>\n",
              "\n",
              "\n",
              "\n",
              "    <div id=\"df-17337d2e-8cc1-44ad-8597-6b10bd3f96f6\">\n",
              "      <button class=\"colab-df-quickchart\" onclick=\"quickchart('df-17337d2e-8cc1-44ad-8597-6b10bd3f96f6')\"\n",
              "              title=\"Suggest charts.\"\n",
              "              style=\"display:none;\">\n",
              "\n",
              "<svg xmlns=\"http://www.w3.org/2000/svg\" height=\"24px\"viewBox=\"0 0 24 24\"\n",
              "     width=\"24px\">\n",
              "    <g>\n",
              "        <path d=\"M19 3H5c-1.1 0-2 .9-2 2v14c0 1.1.9 2 2 2h14c1.1 0 2-.9 2-2V5c0-1.1-.9-2-2-2zM9 17H7v-7h2v7zm4 0h-2V7h2v10zm4 0h-2v-4h2v4z\"/>\n",
              "    </g>\n",
              "</svg>\n",
              "      </button>\n",
              "    </div>\n",
              "\n",
              "<style>\n",
              "  .colab-df-quickchart {\n",
              "    background-color: #E8F0FE;\n",
              "    border: none;\n",
              "    border-radius: 50%;\n",
              "    cursor: pointer;\n",
              "    display: none;\n",
              "    fill: #1967D2;\n",
              "    height: 32px;\n",
              "    padding: 0 0 0 0;\n",
              "    width: 32px;\n",
              "  }\n",
              "\n",
              "  .colab-df-quickchart:hover {\n",
              "    background-color: #E2EBFA;\n",
              "    box-shadow: 0px 1px 2px rgba(60, 64, 67, 0.3), 0px 1px 3px 1px rgba(60, 64, 67, 0.15);\n",
              "    fill: #174EA6;\n",
              "  }\n",
              "\n",
              "  [theme=dark] .colab-df-quickchart {\n",
              "    background-color: #3B4455;\n",
              "    fill: #D2E3FC;\n",
              "  }\n",
              "\n",
              "  [theme=dark] .colab-df-quickchart:hover {\n",
              "    background-color: #434B5C;\n",
              "    box-shadow: 0px 1px 3px 1px rgba(0, 0, 0, 0.15);\n",
              "    filter: drop-shadow(0px 1px 2px rgba(0, 0, 0, 0.3));\n",
              "    fill: #FFFFFF;\n",
              "  }\n",
              "</style>\n",
              "\n",
              "    <script>\n",
              "      async function quickchart(key) {\n",
              "        const containerElement = document.querySelector('#' + key);\n",
              "        const charts = await google.colab.kernel.invokeFunction(\n",
              "            'suggestCharts', [key], {});\n",
              "      }\n",
              "    </script>\n",
              "\n",
              "      <script>\n",
              "\n",
              "function displayQuickchartButton(domScope) {\n",
              "  let quickchartButtonEl =\n",
              "    domScope.querySelector('#df-17337d2e-8cc1-44ad-8597-6b10bd3f96f6 button.colab-df-quickchart');\n",
              "  quickchartButtonEl.style.display =\n",
              "    google.colab.kernel.accessAllowed ? 'block' : 'none';\n",
              "}\n",
              "\n",
              "        displayQuickchartButton(document);\n",
              "      </script>\n",
              "      <style>\n",
              "    .colab-df-container {\n",
              "      display:flex;\n",
              "      flex-wrap:wrap;\n",
              "      gap: 12px;\n",
              "    }\n",
              "\n",
              "    .colab-df-convert {\n",
              "      background-color: #E8F0FE;\n",
              "      border: none;\n",
              "      border-radius: 50%;\n",
              "      cursor: pointer;\n",
              "      display: none;\n",
              "      fill: #1967D2;\n",
              "      height: 32px;\n",
              "      padding: 0 0 0 0;\n",
              "      width: 32px;\n",
              "    }\n",
              "\n",
              "    .colab-df-convert:hover {\n",
              "      background-color: #E2EBFA;\n",
              "      box-shadow: 0px 1px 2px rgba(60, 64, 67, 0.3), 0px 1px 3px 1px rgba(60, 64, 67, 0.15);\n",
              "      fill: #174EA6;\n",
              "    }\n",
              "\n",
              "    [theme=dark] .colab-df-convert {\n",
              "      background-color: #3B4455;\n",
              "      fill: #D2E3FC;\n",
              "    }\n",
              "\n",
              "    [theme=dark] .colab-df-convert:hover {\n",
              "      background-color: #434B5C;\n",
              "      box-shadow: 0px 1px 3px 1px rgba(0, 0, 0, 0.15);\n",
              "      filter: drop-shadow(0px 1px 2px rgba(0, 0, 0, 0.3));\n",
              "      fill: #FFFFFF;\n",
              "    }\n",
              "  </style>\n",
              "\n",
              "      <script>\n",
              "        const buttonEl =\n",
              "          document.querySelector('#df-124929d0-c42f-41b9-9775-40f6b42f8c12 button.colab-df-convert');\n",
              "        buttonEl.style.display =\n",
              "          google.colab.kernel.accessAllowed ? 'block' : 'none';\n",
              "\n",
              "        async function convertToInteractive(key) {\n",
              "          const element = document.querySelector('#df-124929d0-c42f-41b9-9775-40f6b42f8c12');\n",
              "          const dataTable =\n",
              "            await google.colab.kernel.invokeFunction('convertToInteractive',\n",
              "                                                     [key], {});\n",
              "          if (!dataTable) return;\n",
              "\n",
              "          const docLinkHtml = 'Like what you see? Visit the ' +\n",
              "            '<a target=\"_blank\" href=https://colab.research.google.com/notebooks/data_table.ipynb>data table notebook</a>'\n",
              "            + ' to learn more about interactive tables.';\n",
              "          element.innerHTML = '';\n",
              "          dataTable['output_type'] = 'display_data';\n",
              "          await google.colab.output.renderOutput(dataTable, element);\n",
              "          const docLink = document.createElement('div');\n",
              "          docLink.innerHTML = docLinkHtml;\n",
              "          element.appendChild(docLink);\n",
              "        }\n",
              "      </script>\n",
              "    </div>\n",
              "  </div>\n"
            ]
          },
          "metadata": {},
          "execution_count": 5
        }
      ]
    },
    {
      "cell_type": "code",
      "source": [
        "df_receipts_norm = pd.json_normalize(df_receipts['rewardsReceiptItemList'],errors='ignore',record_prefix='rewardsReceiptItemList')\\\n",
        ".add_prefix('rewardsReceiptItemList.')\n",
        "\n",
        "df_receipts_norm.columns\n"
      ],
      "metadata": {
        "colab": {
          "base_uri": "https://localhost:8080/"
        },
        "id": "BZ5ftnHbjEnw",
        "outputId": "40547492-be55-4ba3-842f-995a1f635358"
      },
      "execution_count": 28,
      "outputs": [
        {
          "output_type": "execute_result",
          "data": {
            "text/plain": [
              "Index(['rewardsReceiptItemList.barcode', 'rewardsReceiptItemList.description',\n",
              "       'rewardsReceiptItemList.finalPrice', 'rewardsReceiptItemList.itemPrice',\n",
              "       'rewardsReceiptItemList.needsFetchReview',\n",
              "       'rewardsReceiptItemList.partnerItemId',\n",
              "       'rewardsReceiptItemList.preventTargetGapPoints',\n",
              "       'rewardsReceiptItemList.quantityPurchased',\n",
              "       'rewardsReceiptItemList.userFlaggedBarcode',\n",
              "       'rewardsReceiptItemList.userFlaggedNewItem',\n",
              "       'rewardsReceiptItemList.userFlaggedPrice',\n",
              "       'rewardsReceiptItemList.userFlaggedQuantity',\n",
              "       'rewardsReceiptItemList.needsFetchReviewReason',\n",
              "       'rewardsReceiptItemList.pointsNotAwardedReason',\n",
              "       'rewardsReceiptItemList.pointsPayerId',\n",
              "       'rewardsReceiptItemList.rewardsGroup',\n",
              "       'rewardsReceiptItemList.rewardsProductPartnerId',\n",
              "       'rewardsReceiptItemList.userFlaggedDescription',\n",
              "       'rewardsReceiptItemList.originalMetaBriteBarcode',\n",
              "       'rewardsReceiptItemList.originalMetaBriteDescription',\n",
              "       'rewardsReceiptItemList.brandCode',\n",
              "       'rewardsReceiptItemList.competitorRewardsGroup',\n",
              "       'rewardsReceiptItemList.discountedItemPrice',\n",
              "       'rewardsReceiptItemList.originalReceiptItemText',\n",
              "       'rewardsReceiptItemList.itemNumber',\n",
              "       'rewardsReceiptItemList.originalMetaBriteQuantityPurchased',\n",
              "       'rewardsReceiptItemList.pointsEarned',\n",
              "       'rewardsReceiptItemList.targetPrice',\n",
              "       'rewardsReceiptItemList.competitiveProduct',\n",
              "       'rewardsReceiptItemList.originalFinalPrice',\n",
              "       'rewardsReceiptItemList.originalMetaBriteItemPrice',\n",
              "       'rewardsReceiptItemList.deleted',\n",
              "       'rewardsReceiptItemList.priceAfterCoupon',\n",
              "       'rewardsReceiptItemList.metabriteCampaignId'],\n",
              "      dtype='object')"
            ]
          },
          "metadata": {},
          "execution_count": 28
        }
      ]
    },
    {
      "cell_type": "markdown",
      "source": [
        "Merging the exploded column back to the original receipts dataframe"
      ],
      "metadata": {
        "id": "va7PvL9Tlhv1"
      }
    },
    {
      "cell_type": "code",
      "source": [
        "df_receipts_final = pd.merge(df_receipts, df_receipts_norm, left_index=True, right_index=True, how='outer')\n",
        "df_receipts_final['rewardsReceiptStatus'].unique()"
      ],
      "metadata": {
        "colab": {
          "base_uri": "https://localhost:8080/"
        },
        "id": "UC-24BnBlHwU",
        "outputId": "93e647e9-7156-43da-f482-8f72e34f0fa1"
      },
      "execution_count": 49,
      "outputs": [
        {
          "output_type": "execute_result",
          "data": {
            "text/plain": [
              "array(['FINISHED', 'REJECTED', 'FLAGGED', 'SUBMITTED', 'PENDING'],\n",
              "      dtype=object)"
            ]
          },
          "metadata": {},
          "execution_count": 49
        }
      ]
    },
    {
      "cell_type": "code",
      "source": [
        "#User friendly names for the colum headers\n",
        "\n",
        "cols = {'_id.$oid':'receipt_id',\n",
        "        'createDate.$date':'createDate',\n",
        "        'dateScanned.$date':'dateScanned',\n",
        "        'finishedDate.$date':'finishedDate',\n",
        "        'modifyDate.$date':'modifyDate',\n",
        "        'pointsAwardedDate.$date':'pointsAwardedDate',\n",
        "        'purchaseDate.$date':'purchaseDate'}\n",
        "\n",
        "df_receipts_final.rename(columns=cols,\n",
        "          inplace=True)\n",
        "\n",
        "df_receipts_final.columns"
      ],
      "metadata": {
        "colab": {
          "base_uri": "https://localhost:8080/"
        },
        "id": "CyJGCbA0pNLi",
        "outputId": "da1bb0a9-0d8f-476c-b51e-77b657608b11"
      },
      "execution_count": 10,
      "outputs": [
        {
          "output_type": "execute_result",
          "data": {
            "text/plain": [
              "Index(['index', 'bonusPointsEarned', 'bonusPointsEarnedReason', 'pointsEarned',\n",
              "       'purchasedItemCount', 'rewardsReceiptItemList', 'rewardsReceiptStatus',\n",
              "       'totalSpent', 'userId', 'receipt_id', 'createDate', 'dateScanned',\n",
              "       'finishedDate', 'modifyDate', 'pointsAwardedDate', 'purchaseDate',\n",
              "       'rewardsReceiptItemList.barcode', 'rewardsReceiptItemList.description',\n",
              "       'rewardsReceiptItemList.finalPrice', 'rewardsReceiptItemList.itemPrice',\n",
              "       'rewardsReceiptItemList.needsFetchReview',\n",
              "       'rewardsReceiptItemList.partnerItemId',\n",
              "       'rewardsReceiptItemList.preventTargetGapPoints',\n",
              "       'rewardsReceiptItemList.quantityPurchased',\n",
              "       'rewardsReceiptItemList.userFlaggedBarcode',\n",
              "       'rewardsReceiptItemList.userFlaggedNewItem',\n",
              "       'rewardsReceiptItemList.userFlaggedPrice',\n",
              "       'rewardsReceiptItemList.userFlaggedQuantity',\n",
              "       'rewardsReceiptItemList.needsFetchReviewReason',\n",
              "       'rewardsReceiptItemList.pointsNotAwardedReason',\n",
              "       'rewardsReceiptItemList.pointsPayerId',\n",
              "       'rewardsReceiptItemList.rewardsGroup',\n",
              "       'rewardsReceiptItemList.rewardsProductPartnerId',\n",
              "       'rewardsReceiptItemList.userFlaggedDescription',\n",
              "       'rewardsReceiptItemList.originalMetaBriteBarcode',\n",
              "       'rewardsReceiptItemList.originalMetaBriteDescription',\n",
              "       'rewardsReceiptItemList.brandCode',\n",
              "       'rewardsReceiptItemList.competitorRewardsGroup',\n",
              "       'rewardsReceiptItemList.discountedItemPrice',\n",
              "       'rewardsReceiptItemList.originalReceiptItemText',\n",
              "       'rewardsReceiptItemList.itemNumber',\n",
              "       'rewardsReceiptItemList.originalMetaBriteQuantityPurchased',\n",
              "       'rewardsReceiptItemList.pointsEarned',\n",
              "       'rewardsReceiptItemList.targetPrice',\n",
              "       'rewardsReceiptItemList.competitiveProduct',\n",
              "       'rewardsReceiptItemList.originalFinalPrice',\n",
              "       'rewardsReceiptItemList.originalMetaBriteItemPrice',\n",
              "       'rewardsReceiptItemList.deleted',\n",
              "       'rewardsReceiptItemList.priceAfterCoupon',\n",
              "       'rewardsReceiptItemList.metabriteCampaignId'],\n",
              "      dtype='object')"
            ]
          },
          "metadata": {},
          "execution_count": 10
        }
      ]
    },
    {
      "cell_type": "markdown",
      "source": [
        "Normalizing and reading the Brands table"
      ],
      "metadata": {
        "id": "cj0PnAJygHYX"
      }
    },
    {
      "cell_type": "code",
      "source": [
        "# Read the JSON file with one JSON object per line\n",
        "with open('/content/drive/MyDrive/Fetch Sample Data/brands.json') as f:\n",
        "    lines = f.readlines()\n",
        "\n",
        "# Normalize each JSON object and convert date columns\n",
        "normalized_data = []\n",
        "for line in lines:\n",
        "    data = json.loads(line)\n",
        "    df_brands = pd.json_normalize(data)\n",
        "    normalized_data.append(df_brands)\n",
        "\n",
        "# Concatenate all normalized DataFrames\n",
        "df_brands = pd.concat(normalized_data, ignore_index=True)\n",
        "\n",
        "# Print the resulting DataFrame\n",
        "df_brands.head()\n"
      ],
      "metadata": {
        "colab": {
          "base_uri": "https://localhost:8080/",
          "height": 320
        },
        "id": "8O1E7_sVPu4H",
        "outputId": "f1040bee-7e2b-4971-a9bb-657aed18d261"
      },
      "execution_count": 31,
      "outputs": [
        {
          "output_type": "execute_result",
          "data": {
            "text/plain": [
              "        barcode        category      categoryCode                       name  \\\n",
              "0  511111019862          Baking            BAKING  test brand @1612366101024   \n",
              "1  511111519928       Beverages         BEVERAGES                  Starbucks   \n",
              "2  511111819905          Baking            BAKING  test brand @1612366146176   \n",
              "3  511111519874          Baking            BAKING  test brand @1612366146051   \n",
              "4  511111319917  Candy & Sweets  CANDY_AND_SWEETS  test brand @1612366146827   \n",
              "\n",
              "  topBrand                  _id.$oid              cpg.$id.$oid cpg.$ref  \\\n",
              "0    False  601ac115be37ce2ead437551  601ac114be37ce2ead437550     Cogs   \n",
              "1    False  601c5460be37ce2ead43755f  5332f5fbe4b03c9a25efd0ba     Cogs   \n",
              "2    False  601ac142be37ce2ead43755d  601ac142be37ce2ead437559     Cogs   \n",
              "3    False  601ac142be37ce2ead43755a  601ac142be37ce2ead437559     Cogs   \n",
              "4    False  601ac142be37ce2ead43755e  5332fa12e4b03c9a25efd1e7     Cogs   \n",
              "\n",
              "                       brandCode  \n",
              "0                            NaN  \n",
              "1                      STARBUCKS  \n",
              "2  TEST BRANDCODE @1612366146176  \n",
              "3  TEST BRANDCODE @1612366146051  \n",
              "4  TEST BRANDCODE @1612366146827  "
            ],
            "text/html": [
              "\n",
              "\n",
              "  <div id=\"df-dfb2a92a-ef0a-4fe9-b854-8d81f4fef487\">\n",
              "    <div class=\"colab-df-container\">\n",
              "      <div>\n",
              "<style scoped>\n",
              "    .dataframe tbody tr th:only-of-type {\n",
              "        vertical-align: middle;\n",
              "    }\n",
              "\n",
              "    .dataframe tbody tr th {\n",
              "        vertical-align: top;\n",
              "    }\n",
              "\n",
              "    .dataframe thead th {\n",
              "        text-align: right;\n",
              "    }\n",
              "</style>\n",
              "<table border=\"1\" class=\"dataframe\">\n",
              "  <thead>\n",
              "    <tr style=\"text-align: right;\">\n",
              "      <th></th>\n",
              "      <th>barcode</th>\n",
              "      <th>category</th>\n",
              "      <th>categoryCode</th>\n",
              "      <th>name</th>\n",
              "      <th>topBrand</th>\n",
              "      <th>_id.$oid</th>\n",
              "      <th>cpg.$id.$oid</th>\n",
              "      <th>cpg.$ref</th>\n",
              "      <th>brandCode</th>\n",
              "    </tr>\n",
              "  </thead>\n",
              "  <tbody>\n",
              "    <tr>\n",
              "      <th>0</th>\n",
              "      <td>511111019862</td>\n",
              "      <td>Baking</td>\n",
              "      <td>BAKING</td>\n",
              "      <td>test brand @1612366101024</td>\n",
              "      <td>False</td>\n",
              "      <td>601ac115be37ce2ead437551</td>\n",
              "      <td>601ac114be37ce2ead437550</td>\n",
              "      <td>Cogs</td>\n",
              "      <td>NaN</td>\n",
              "    </tr>\n",
              "    <tr>\n",
              "      <th>1</th>\n",
              "      <td>511111519928</td>\n",
              "      <td>Beverages</td>\n",
              "      <td>BEVERAGES</td>\n",
              "      <td>Starbucks</td>\n",
              "      <td>False</td>\n",
              "      <td>601c5460be37ce2ead43755f</td>\n",
              "      <td>5332f5fbe4b03c9a25efd0ba</td>\n",
              "      <td>Cogs</td>\n",
              "      <td>STARBUCKS</td>\n",
              "    </tr>\n",
              "    <tr>\n",
              "      <th>2</th>\n",
              "      <td>511111819905</td>\n",
              "      <td>Baking</td>\n",
              "      <td>BAKING</td>\n",
              "      <td>test brand @1612366146176</td>\n",
              "      <td>False</td>\n",
              "      <td>601ac142be37ce2ead43755d</td>\n",
              "      <td>601ac142be37ce2ead437559</td>\n",
              "      <td>Cogs</td>\n",
              "      <td>TEST BRANDCODE @1612366146176</td>\n",
              "    </tr>\n",
              "    <tr>\n",
              "      <th>3</th>\n",
              "      <td>511111519874</td>\n",
              "      <td>Baking</td>\n",
              "      <td>BAKING</td>\n",
              "      <td>test brand @1612366146051</td>\n",
              "      <td>False</td>\n",
              "      <td>601ac142be37ce2ead43755a</td>\n",
              "      <td>601ac142be37ce2ead437559</td>\n",
              "      <td>Cogs</td>\n",
              "      <td>TEST BRANDCODE @1612366146051</td>\n",
              "    </tr>\n",
              "    <tr>\n",
              "      <th>4</th>\n",
              "      <td>511111319917</td>\n",
              "      <td>Candy &amp; Sweets</td>\n",
              "      <td>CANDY_AND_SWEETS</td>\n",
              "      <td>test brand @1612366146827</td>\n",
              "      <td>False</td>\n",
              "      <td>601ac142be37ce2ead43755e</td>\n",
              "      <td>5332fa12e4b03c9a25efd1e7</td>\n",
              "      <td>Cogs</td>\n",
              "      <td>TEST BRANDCODE @1612366146827</td>\n",
              "    </tr>\n",
              "  </tbody>\n",
              "</table>\n",
              "</div>\n",
              "      <button class=\"colab-df-convert\" onclick=\"convertToInteractive('df-dfb2a92a-ef0a-4fe9-b854-8d81f4fef487')\"\n",
              "              title=\"Convert this dataframe to an interactive table.\"\n",
              "              style=\"display:none;\">\n",
              "\n",
              "  <svg xmlns=\"http://www.w3.org/2000/svg\" height=\"24px\"viewBox=\"0 0 24 24\"\n",
              "       width=\"24px\">\n",
              "    <path d=\"M0 0h24v24H0V0z\" fill=\"none\"/>\n",
              "    <path d=\"M18.56 5.44l.94 2.06.94-2.06 2.06-.94-2.06-.94-.94-2.06-.94 2.06-2.06.94zm-11 1L8.5 8.5l.94-2.06 2.06-.94-2.06-.94L8.5 2.5l-.94 2.06-2.06.94zm10 10l.94 2.06.94-2.06 2.06-.94-2.06-.94-.94-2.06-.94 2.06-2.06.94z\"/><path d=\"M17.41 7.96l-1.37-1.37c-.4-.4-.92-.59-1.43-.59-.52 0-1.04.2-1.43.59L10.3 9.45l-7.72 7.72c-.78.78-.78 2.05 0 2.83L4 21.41c.39.39.9.59 1.41.59.51 0 1.02-.2 1.41-.59l7.78-7.78 2.81-2.81c.8-.78.8-2.07 0-2.86zM5.41 20L4 18.59l7.72-7.72 1.47 1.35L5.41 20z\"/>\n",
              "  </svg>\n",
              "      </button>\n",
              "\n",
              "\n",
              "\n",
              "    <div id=\"df-4b3c2189-4a68-4828-97c5-71bddd1c8797\">\n",
              "      <button class=\"colab-df-quickchart\" onclick=\"quickchart('df-4b3c2189-4a68-4828-97c5-71bddd1c8797')\"\n",
              "              title=\"Suggest charts.\"\n",
              "              style=\"display:none;\">\n",
              "\n",
              "<svg xmlns=\"http://www.w3.org/2000/svg\" height=\"24px\"viewBox=\"0 0 24 24\"\n",
              "     width=\"24px\">\n",
              "    <g>\n",
              "        <path d=\"M19 3H5c-1.1 0-2 .9-2 2v14c0 1.1.9 2 2 2h14c1.1 0 2-.9 2-2V5c0-1.1-.9-2-2-2zM9 17H7v-7h2v7zm4 0h-2V7h2v10zm4 0h-2v-4h2v4z\"/>\n",
              "    </g>\n",
              "</svg>\n",
              "      </button>\n",
              "    </div>\n",
              "\n",
              "<style>\n",
              "  .colab-df-quickchart {\n",
              "    background-color: #E8F0FE;\n",
              "    border: none;\n",
              "    border-radius: 50%;\n",
              "    cursor: pointer;\n",
              "    display: none;\n",
              "    fill: #1967D2;\n",
              "    height: 32px;\n",
              "    padding: 0 0 0 0;\n",
              "    width: 32px;\n",
              "  }\n",
              "\n",
              "  .colab-df-quickchart:hover {\n",
              "    background-color: #E2EBFA;\n",
              "    box-shadow: 0px 1px 2px rgba(60, 64, 67, 0.3), 0px 1px 3px 1px rgba(60, 64, 67, 0.15);\n",
              "    fill: #174EA6;\n",
              "  }\n",
              "\n",
              "  [theme=dark] .colab-df-quickchart {\n",
              "    background-color: #3B4455;\n",
              "    fill: #D2E3FC;\n",
              "  }\n",
              "\n",
              "  [theme=dark] .colab-df-quickchart:hover {\n",
              "    background-color: #434B5C;\n",
              "    box-shadow: 0px 1px 3px 1px rgba(0, 0, 0, 0.15);\n",
              "    filter: drop-shadow(0px 1px 2px rgba(0, 0, 0, 0.3));\n",
              "    fill: #FFFFFF;\n",
              "  }\n",
              "</style>\n",
              "\n",
              "    <script>\n",
              "      async function quickchart(key) {\n",
              "        const containerElement = document.querySelector('#' + key);\n",
              "        const charts = await google.colab.kernel.invokeFunction(\n",
              "            'suggestCharts', [key], {});\n",
              "      }\n",
              "    </script>\n",
              "\n",
              "      <script>\n",
              "\n",
              "function displayQuickchartButton(domScope) {\n",
              "  let quickchartButtonEl =\n",
              "    domScope.querySelector('#df-4b3c2189-4a68-4828-97c5-71bddd1c8797 button.colab-df-quickchart');\n",
              "  quickchartButtonEl.style.display =\n",
              "    google.colab.kernel.accessAllowed ? 'block' : 'none';\n",
              "}\n",
              "\n",
              "        displayQuickchartButton(document);\n",
              "      </script>\n",
              "      <style>\n",
              "    .colab-df-container {\n",
              "      display:flex;\n",
              "      flex-wrap:wrap;\n",
              "      gap: 12px;\n",
              "    }\n",
              "\n",
              "    .colab-df-convert {\n",
              "      background-color: #E8F0FE;\n",
              "      border: none;\n",
              "      border-radius: 50%;\n",
              "      cursor: pointer;\n",
              "      display: none;\n",
              "      fill: #1967D2;\n",
              "      height: 32px;\n",
              "      padding: 0 0 0 0;\n",
              "      width: 32px;\n",
              "    }\n",
              "\n",
              "    .colab-df-convert:hover {\n",
              "      background-color: #E2EBFA;\n",
              "      box-shadow: 0px 1px 2px rgba(60, 64, 67, 0.3), 0px 1px 3px 1px rgba(60, 64, 67, 0.15);\n",
              "      fill: #174EA6;\n",
              "    }\n",
              "\n",
              "    [theme=dark] .colab-df-convert {\n",
              "      background-color: #3B4455;\n",
              "      fill: #D2E3FC;\n",
              "    }\n",
              "\n",
              "    [theme=dark] .colab-df-convert:hover {\n",
              "      background-color: #434B5C;\n",
              "      box-shadow: 0px 1px 3px 1px rgba(0, 0, 0, 0.15);\n",
              "      filter: drop-shadow(0px 1px 2px rgba(0, 0, 0, 0.3));\n",
              "      fill: #FFFFFF;\n",
              "    }\n",
              "  </style>\n",
              "\n",
              "      <script>\n",
              "        const buttonEl =\n",
              "          document.querySelector('#df-dfb2a92a-ef0a-4fe9-b854-8d81f4fef487 button.colab-df-convert');\n",
              "        buttonEl.style.display =\n",
              "          google.colab.kernel.accessAllowed ? 'block' : 'none';\n",
              "\n",
              "        async function convertToInteractive(key) {\n",
              "          const element = document.querySelector('#df-dfb2a92a-ef0a-4fe9-b854-8d81f4fef487');\n",
              "          const dataTable =\n",
              "            await google.colab.kernel.invokeFunction('convertToInteractive',\n",
              "                                                     [key], {});\n",
              "          if (!dataTable) return;\n",
              "\n",
              "          const docLinkHtml = 'Like what you see? Visit the ' +\n",
              "            '<a target=\"_blank\" href=https://colab.research.google.com/notebooks/data_table.ipynb>data table notebook</a>'\n",
              "            + ' to learn more about interactive tables.';\n",
              "          element.innerHTML = '';\n",
              "          dataTable['output_type'] = 'display_data';\n",
              "          await google.colab.output.renderOutput(dataTable, element);\n",
              "          const docLink = document.createElement('div');\n",
              "          docLink.innerHTML = docLinkHtml;\n",
              "          element.appendChild(docLink);\n",
              "        }\n",
              "      </script>\n",
              "    </div>\n",
              "  </div>\n"
            ]
          },
          "metadata": {},
          "execution_count": 31
        }
      ]
    },
    {
      "cell_type": "code",
      "source": [
        "#Renaming column headers to user-friendly names\n",
        "\n",
        "brandcols = {'_id.$oid':'brand_id',\n",
        "             'cpg.$id.$oid':'cpg_id',\n",
        "             'cpg.$ref':'cpf_ref'}\n",
        "\n",
        "df_brands.rename(columns= brandcols, inplace=True)\n",
        "\n",
        "df_brands.columns"
      ],
      "metadata": {
        "colab": {
          "base_uri": "https://localhost:8080/"
        },
        "id": "2ejNGW6HqUos",
        "outputId": "7dd84237-57f1-4f7e-8f72-5d335c67ed7e"
      },
      "execution_count": 42,
      "outputs": [
        {
          "output_type": "execute_result",
          "data": {
            "text/plain": [
              "Index(['barcode', 'category', 'categoryCode', 'name', 'topBrand', 'brand_id',\n",
              "       'cpg_id', 'cpf_ref', 'brandCode'],\n",
              "      dtype='object')"
            ]
          },
          "metadata": {},
          "execution_count": 42
        }
      ]
    },
    {
      "cell_type": "markdown",
      "source": [
        "Normalizing and reading users table\n"
      ],
      "metadata": {
        "id": "K7EzKYoChIQK"
      }
    },
    {
      "cell_type": "code",
      "source": [
        "# Read the JSON file with one JSON object per line\n",
        "with open('/content/drive/MyDrive/Fetch Sample Data/users.json') as f:\n",
        "    lines = f.readlines()\n",
        "\n",
        "# Normalize each JSON object and convert date columns\n",
        "normalized_data = []\n",
        "for line in lines:\n",
        "    data = json.loads(line)\n",
        "    df_users = pd.json_normalize(data)\n",
        "\n",
        "    # Convert specific date columns to datetime format\n",
        "    date_columns = ['createdDate.$date', 'lastLogin.$date']\n",
        "    for column in date_columns:\n",
        "        if column in df_users.columns:\n",
        "            df_users[column] = pd.to_datetime(int(df_users[column])/1000, unit='s')\n",
        "\n",
        "    normalized_data.append(df_users)\n",
        "\n",
        "# Concatenate all normalized DataFrames\n",
        "df_users = pd.concat(normalized_data, ignore_index=True)\n",
        "\n",
        "# Print the resulting DataFrame\n",
        "df_users.head(5)"
      ],
      "metadata": {
        "colab": {
          "base_uri": "https://localhost:8080/",
          "height": 206
        },
        "id": "kIM67KVKhMtZ",
        "outputId": "57b2c17a-31ff-4bf5-9eee-43778cc4d575"
      },
      "execution_count": 33,
      "outputs": [
        {
          "output_type": "execute_result",
          "data": {
            "text/plain": [
              "   active      role signUpSource state                  _id.$oid  \\\n",
              "0    True  consumer        Email    WI  5ff1e194b6a9d73a3a9f1052   \n",
              "1    True  consumer        Email    WI  5ff1e194b6a9d73a3a9f1052   \n",
              "2    True  consumer        Email    WI  5ff1e194b6a9d73a3a9f1052   \n",
              "3    True  consumer        Email    WI  5ff1e1eacfcf6c399c274ae6   \n",
              "4    True  consumer        Email    WI  5ff1e194b6a9d73a3a9f1052   \n",
              "\n",
              "              createdDate.$date               lastLogin.$date  \n",
              "0 2021-01-03 15:24:04.800000000 2021-01-03 15:25:37.858000128  \n",
              "1 2021-01-03 15:24:04.800000000 2021-01-03 15:25:37.858000128  \n",
              "2 2021-01-03 15:24:04.800000000 2021-01-03 15:25:37.858000128  \n",
              "3 2021-01-03 15:25:30.553999872 2021-01-03 15:25:30.596999936  \n",
              "4 2021-01-03 15:24:04.800000000 2021-01-03 15:25:37.858000128  "
            ],
            "text/html": [
              "\n",
              "\n",
              "  <div id=\"df-52e6c916-f400-4f22-8639-d6150ffccec0\">\n",
              "    <div class=\"colab-df-container\">\n",
              "      <div>\n",
              "<style scoped>\n",
              "    .dataframe tbody tr th:only-of-type {\n",
              "        vertical-align: middle;\n",
              "    }\n",
              "\n",
              "    .dataframe tbody tr th {\n",
              "        vertical-align: top;\n",
              "    }\n",
              "\n",
              "    .dataframe thead th {\n",
              "        text-align: right;\n",
              "    }\n",
              "</style>\n",
              "<table border=\"1\" class=\"dataframe\">\n",
              "  <thead>\n",
              "    <tr style=\"text-align: right;\">\n",
              "      <th></th>\n",
              "      <th>active</th>\n",
              "      <th>role</th>\n",
              "      <th>signUpSource</th>\n",
              "      <th>state</th>\n",
              "      <th>_id.$oid</th>\n",
              "      <th>createdDate.$date</th>\n",
              "      <th>lastLogin.$date</th>\n",
              "    </tr>\n",
              "  </thead>\n",
              "  <tbody>\n",
              "    <tr>\n",
              "      <th>0</th>\n",
              "      <td>True</td>\n",
              "      <td>consumer</td>\n",
              "      <td>Email</td>\n",
              "      <td>WI</td>\n",
              "      <td>5ff1e194b6a9d73a3a9f1052</td>\n",
              "      <td>2021-01-03 15:24:04.800000000</td>\n",
              "      <td>2021-01-03 15:25:37.858000128</td>\n",
              "    </tr>\n",
              "    <tr>\n",
              "      <th>1</th>\n",
              "      <td>True</td>\n",
              "      <td>consumer</td>\n",
              "      <td>Email</td>\n",
              "      <td>WI</td>\n",
              "      <td>5ff1e194b6a9d73a3a9f1052</td>\n",
              "      <td>2021-01-03 15:24:04.800000000</td>\n",
              "      <td>2021-01-03 15:25:37.858000128</td>\n",
              "    </tr>\n",
              "    <tr>\n",
              "      <th>2</th>\n",
              "      <td>True</td>\n",
              "      <td>consumer</td>\n",
              "      <td>Email</td>\n",
              "      <td>WI</td>\n",
              "      <td>5ff1e194b6a9d73a3a9f1052</td>\n",
              "      <td>2021-01-03 15:24:04.800000000</td>\n",
              "      <td>2021-01-03 15:25:37.858000128</td>\n",
              "    </tr>\n",
              "    <tr>\n",
              "      <th>3</th>\n",
              "      <td>True</td>\n",
              "      <td>consumer</td>\n",
              "      <td>Email</td>\n",
              "      <td>WI</td>\n",
              "      <td>5ff1e1eacfcf6c399c274ae6</td>\n",
              "      <td>2021-01-03 15:25:30.553999872</td>\n",
              "      <td>2021-01-03 15:25:30.596999936</td>\n",
              "    </tr>\n",
              "    <tr>\n",
              "      <th>4</th>\n",
              "      <td>True</td>\n",
              "      <td>consumer</td>\n",
              "      <td>Email</td>\n",
              "      <td>WI</td>\n",
              "      <td>5ff1e194b6a9d73a3a9f1052</td>\n",
              "      <td>2021-01-03 15:24:04.800000000</td>\n",
              "      <td>2021-01-03 15:25:37.858000128</td>\n",
              "    </tr>\n",
              "  </tbody>\n",
              "</table>\n",
              "</div>\n",
              "      <button class=\"colab-df-convert\" onclick=\"convertToInteractive('df-52e6c916-f400-4f22-8639-d6150ffccec0')\"\n",
              "              title=\"Convert this dataframe to an interactive table.\"\n",
              "              style=\"display:none;\">\n",
              "\n",
              "  <svg xmlns=\"http://www.w3.org/2000/svg\" height=\"24px\"viewBox=\"0 0 24 24\"\n",
              "       width=\"24px\">\n",
              "    <path d=\"M0 0h24v24H0V0z\" fill=\"none\"/>\n",
              "    <path d=\"M18.56 5.44l.94 2.06.94-2.06 2.06-.94-2.06-.94-.94-2.06-.94 2.06-2.06.94zm-11 1L8.5 8.5l.94-2.06 2.06-.94-2.06-.94L8.5 2.5l-.94 2.06-2.06.94zm10 10l.94 2.06.94-2.06 2.06-.94-2.06-.94-.94-2.06-.94 2.06-2.06.94z\"/><path d=\"M17.41 7.96l-1.37-1.37c-.4-.4-.92-.59-1.43-.59-.52 0-1.04.2-1.43.59L10.3 9.45l-7.72 7.72c-.78.78-.78 2.05 0 2.83L4 21.41c.39.39.9.59 1.41.59.51 0 1.02-.2 1.41-.59l7.78-7.78 2.81-2.81c.8-.78.8-2.07 0-2.86zM5.41 20L4 18.59l7.72-7.72 1.47 1.35L5.41 20z\"/>\n",
              "  </svg>\n",
              "      </button>\n",
              "\n",
              "\n",
              "\n",
              "    <div id=\"df-1acdd4d3-73b2-4965-80a3-2682e409ede1\">\n",
              "      <button class=\"colab-df-quickchart\" onclick=\"quickchart('df-1acdd4d3-73b2-4965-80a3-2682e409ede1')\"\n",
              "              title=\"Suggest charts.\"\n",
              "              style=\"display:none;\">\n",
              "\n",
              "<svg xmlns=\"http://www.w3.org/2000/svg\" height=\"24px\"viewBox=\"0 0 24 24\"\n",
              "     width=\"24px\">\n",
              "    <g>\n",
              "        <path d=\"M19 3H5c-1.1 0-2 .9-2 2v14c0 1.1.9 2 2 2h14c1.1 0 2-.9 2-2V5c0-1.1-.9-2-2-2zM9 17H7v-7h2v7zm4 0h-2V7h2v10zm4 0h-2v-4h2v4z\"/>\n",
              "    </g>\n",
              "</svg>\n",
              "      </button>\n",
              "    </div>\n",
              "\n",
              "<style>\n",
              "  .colab-df-quickchart {\n",
              "    background-color: #E8F0FE;\n",
              "    border: none;\n",
              "    border-radius: 50%;\n",
              "    cursor: pointer;\n",
              "    display: none;\n",
              "    fill: #1967D2;\n",
              "    height: 32px;\n",
              "    padding: 0 0 0 0;\n",
              "    width: 32px;\n",
              "  }\n",
              "\n",
              "  .colab-df-quickchart:hover {\n",
              "    background-color: #E2EBFA;\n",
              "    box-shadow: 0px 1px 2px rgba(60, 64, 67, 0.3), 0px 1px 3px 1px rgba(60, 64, 67, 0.15);\n",
              "    fill: #174EA6;\n",
              "  }\n",
              "\n",
              "  [theme=dark] .colab-df-quickchart {\n",
              "    background-color: #3B4455;\n",
              "    fill: #D2E3FC;\n",
              "  }\n",
              "\n",
              "  [theme=dark] .colab-df-quickchart:hover {\n",
              "    background-color: #434B5C;\n",
              "    box-shadow: 0px 1px 3px 1px rgba(0, 0, 0, 0.15);\n",
              "    filter: drop-shadow(0px 1px 2px rgba(0, 0, 0, 0.3));\n",
              "    fill: #FFFFFF;\n",
              "  }\n",
              "</style>\n",
              "\n",
              "    <script>\n",
              "      async function quickchart(key) {\n",
              "        const containerElement = document.querySelector('#' + key);\n",
              "        const charts = await google.colab.kernel.invokeFunction(\n",
              "            'suggestCharts', [key], {});\n",
              "      }\n",
              "    </script>\n",
              "\n",
              "      <script>\n",
              "\n",
              "function displayQuickchartButton(domScope) {\n",
              "  let quickchartButtonEl =\n",
              "    domScope.querySelector('#df-1acdd4d3-73b2-4965-80a3-2682e409ede1 button.colab-df-quickchart');\n",
              "  quickchartButtonEl.style.display =\n",
              "    google.colab.kernel.accessAllowed ? 'block' : 'none';\n",
              "}\n",
              "\n",
              "        displayQuickchartButton(document);\n",
              "      </script>\n",
              "      <style>\n",
              "    .colab-df-container {\n",
              "      display:flex;\n",
              "      flex-wrap:wrap;\n",
              "      gap: 12px;\n",
              "    }\n",
              "\n",
              "    .colab-df-convert {\n",
              "      background-color: #E8F0FE;\n",
              "      border: none;\n",
              "      border-radius: 50%;\n",
              "      cursor: pointer;\n",
              "      display: none;\n",
              "      fill: #1967D2;\n",
              "      height: 32px;\n",
              "      padding: 0 0 0 0;\n",
              "      width: 32px;\n",
              "    }\n",
              "\n",
              "    .colab-df-convert:hover {\n",
              "      background-color: #E2EBFA;\n",
              "      box-shadow: 0px 1px 2px rgba(60, 64, 67, 0.3), 0px 1px 3px 1px rgba(60, 64, 67, 0.15);\n",
              "      fill: #174EA6;\n",
              "    }\n",
              "\n",
              "    [theme=dark] .colab-df-convert {\n",
              "      background-color: #3B4455;\n",
              "      fill: #D2E3FC;\n",
              "    }\n",
              "\n",
              "    [theme=dark] .colab-df-convert:hover {\n",
              "      background-color: #434B5C;\n",
              "      box-shadow: 0px 1px 3px 1px rgba(0, 0, 0, 0.15);\n",
              "      filter: drop-shadow(0px 1px 2px rgba(0, 0, 0, 0.3));\n",
              "      fill: #FFFFFF;\n",
              "    }\n",
              "  </style>\n",
              "\n",
              "      <script>\n",
              "        const buttonEl =\n",
              "          document.querySelector('#df-52e6c916-f400-4f22-8639-d6150ffccec0 button.colab-df-convert');\n",
              "        buttonEl.style.display =\n",
              "          google.colab.kernel.accessAllowed ? 'block' : 'none';\n",
              "\n",
              "        async function convertToInteractive(key) {\n",
              "          const element = document.querySelector('#df-52e6c916-f400-4f22-8639-d6150ffccec0');\n",
              "          const dataTable =\n",
              "            await google.colab.kernel.invokeFunction('convertToInteractive',\n",
              "                                                     [key], {});\n",
              "          if (!dataTable) return;\n",
              "\n",
              "          const docLinkHtml = 'Like what you see? Visit the ' +\n",
              "            '<a target=\"_blank\" href=https://colab.research.google.com/notebooks/data_table.ipynb>data table notebook</a>'\n",
              "            + ' to learn more about interactive tables.';\n",
              "          element.innerHTML = '';\n",
              "          dataTable['output_type'] = 'display_data';\n",
              "          await google.colab.output.renderOutput(dataTable, element);\n",
              "          const docLink = document.createElement('div');\n",
              "          docLink.innerHTML = docLinkHtml;\n",
              "          element.appendChild(docLink);\n",
              "        }\n",
              "      </script>\n",
              "    </div>\n",
              "  </div>\n"
            ]
          },
          "metadata": {},
          "execution_count": 33
        }
      ]
    },
    {
      "cell_type": "code",
      "source": [
        "#Renaming column headers to user-friendly names\n",
        "\n",
        "usercols = {'_id.$oid':'user_id',\n",
        "             'createdDate.$date':'createdDate',\n",
        "             'lastLogin.$date':'lastLogin'}\n",
        "\n",
        "df_users.rename(columns= usercols, inplace=True)\n",
        "\n",
        "df_users.columns\n",
        "df_users.head(5)"
      ],
      "metadata": {
        "colab": {
          "base_uri": "https://localhost:8080/",
          "height": 206
        },
        "id": "HfHab6sDrBuG",
        "outputId": "b65f3ce9-f43a-4c67-9892-d7289ccefce4"
      },
      "execution_count": 34,
      "outputs": [
        {
          "output_type": "execute_result",
          "data": {
            "text/plain": [
              "   active      role signUpSource state                   user_id  \\\n",
              "0    True  consumer        Email    WI  5ff1e194b6a9d73a3a9f1052   \n",
              "1    True  consumer        Email    WI  5ff1e194b6a9d73a3a9f1052   \n",
              "2    True  consumer        Email    WI  5ff1e194b6a9d73a3a9f1052   \n",
              "3    True  consumer        Email    WI  5ff1e1eacfcf6c399c274ae6   \n",
              "4    True  consumer        Email    WI  5ff1e194b6a9d73a3a9f1052   \n",
              "\n",
              "                    createdDate                     lastLogin  \n",
              "0 2021-01-03 15:24:04.800000000 2021-01-03 15:25:37.858000128  \n",
              "1 2021-01-03 15:24:04.800000000 2021-01-03 15:25:37.858000128  \n",
              "2 2021-01-03 15:24:04.800000000 2021-01-03 15:25:37.858000128  \n",
              "3 2021-01-03 15:25:30.553999872 2021-01-03 15:25:30.596999936  \n",
              "4 2021-01-03 15:24:04.800000000 2021-01-03 15:25:37.858000128  "
            ],
            "text/html": [
              "\n",
              "\n",
              "  <div id=\"df-f47171e9-403a-4129-9a3b-7c7508dc9ce3\">\n",
              "    <div class=\"colab-df-container\">\n",
              "      <div>\n",
              "<style scoped>\n",
              "    .dataframe tbody tr th:only-of-type {\n",
              "        vertical-align: middle;\n",
              "    }\n",
              "\n",
              "    .dataframe tbody tr th {\n",
              "        vertical-align: top;\n",
              "    }\n",
              "\n",
              "    .dataframe thead th {\n",
              "        text-align: right;\n",
              "    }\n",
              "</style>\n",
              "<table border=\"1\" class=\"dataframe\">\n",
              "  <thead>\n",
              "    <tr style=\"text-align: right;\">\n",
              "      <th></th>\n",
              "      <th>active</th>\n",
              "      <th>role</th>\n",
              "      <th>signUpSource</th>\n",
              "      <th>state</th>\n",
              "      <th>user_id</th>\n",
              "      <th>createdDate</th>\n",
              "      <th>lastLogin</th>\n",
              "    </tr>\n",
              "  </thead>\n",
              "  <tbody>\n",
              "    <tr>\n",
              "      <th>0</th>\n",
              "      <td>True</td>\n",
              "      <td>consumer</td>\n",
              "      <td>Email</td>\n",
              "      <td>WI</td>\n",
              "      <td>5ff1e194b6a9d73a3a9f1052</td>\n",
              "      <td>2021-01-03 15:24:04.800000000</td>\n",
              "      <td>2021-01-03 15:25:37.858000128</td>\n",
              "    </tr>\n",
              "    <tr>\n",
              "      <th>1</th>\n",
              "      <td>True</td>\n",
              "      <td>consumer</td>\n",
              "      <td>Email</td>\n",
              "      <td>WI</td>\n",
              "      <td>5ff1e194b6a9d73a3a9f1052</td>\n",
              "      <td>2021-01-03 15:24:04.800000000</td>\n",
              "      <td>2021-01-03 15:25:37.858000128</td>\n",
              "    </tr>\n",
              "    <tr>\n",
              "      <th>2</th>\n",
              "      <td>True</td>\n",
              "      <td>consumer</td>\n",
              "      <td>Email</td>\n",
              "      <td>WI</td>\n",
              "      <td>5ff1e194b6a9d73a3a9f1052</td>\n",
              "      <td>2021-01-03 15:24:04.800000000</td>\n",
              "      <td>2021-01-03 15:25:37.858000128</td>\n",
              "    </tr>\n",
              "    <tr>\n",
              "      <th>3</th>\n",
              "      <td>True</td>\n",
              "      <td>consumer</td>\n",
              "      <td>Email</td>\n",
              "      <td>WI</td>\n",
              "      <td>5ff1e1eacfcf6c399c274ae6</td>\n",
              "      <td>2021-01-03 15:25:30.553999872</td>\n",
              "      <td>2021-01-03 15:25:30.596999936</td>\n",
              "    </tr>\n",
              "    <tr>\n",
              "      <th>4</th>\n",
              "      <td>True</td>\n",
              "      <td>consumer</td>\n",
              "      <td>Email</td>\n",
              "      <td>WI</td>\n",
              "      <td>5ff1e194b6a9d73a3a9f1052</td>\n",
              "      <td>2021-01-03 15:24:04.800000000</td>\n",
              "      <td>2021-01-03 15:25:37.858000128</td>\n",
              "    </tr>\n",
              "  </tbody>\n",
              "</table>\n",
              "</div>\n",
              "      <button class=\"colab-df-convert\" onclick=\"convertToInteractive('df-f47171e9-403a-4129-9a3b-7c7508dc9ce3')\"\n",
              "              title=\"Convert this dataframe to an interactive table.\"\n",
              "              style=\"display:none;\">\n",
              "\n",
              "  <svg xmlns=\"http://www.w3.org/2000/svg\" height=\"24px\"viewBox=\"0 0 24 24\"\n",
              "       width=\"24px\">\n",
              "    <path d=\"M0 0h24v24H0V0z\" fill=\"none\"/>\n",
              "    <path d=\"M18.56 5.44l.94 2.06.94-2.06 2.06-.94-2.06-.94-.94-2.06-.94 2.06-2.06.94zm-11 1L8.5 8.5l.94-2.06 2.06-.94-2.06-.94L8.5 2.5l-.94 2.06-2.06.94zm10 10l.94 2.06.94-2.06 2.06-.94-2.06-.94-.94-2.06-.94 2.06-2.06.94z\"/><path d=\"M17.41 7.96l-1.37-1.37c-.4-.4-.92-.59-1.43-.59-.52 0-1.04.2-1.43.59L10.3 9.45l-7.72 7.72c-.78.78-.78 2.05 0 2.83L4 21.41c.39.39.9.59 1.41.59.51 0 1.02-.2 1.41-.59l7.78-7.78 2.81-2.81c.8-.78.8-2.07 0-2.86zM5.41 20L4 18.59l7.72-7.72 1.47 1.35L5.41 20z\"/>\n",
              "  </svg>\n",
              "      </button>\n",
              "\n",
              "\n",
              "\n",
              "    <div id=\"df-dc5417e4-a94f-487b-87e5-6dafb3cbae3e\">\n",
              "      <button class=\"colab-df-quickchart\" onclick=\"quickchart('df-dc5417e4-a94f-487b-87e5-6dafb3cbae3e')\"\n",
              "              title=\"Suggest charts.\"\n",
              "              style=\"display:none;\">\n",
              "\n",
              "<svg xmlns=\"http://www.w3.org/2000/svg\" height=\"24px\"viewBox=\"0 0 24 24\"\n",
              "     width=\"24px\">\n",
              "    <g>\n",
              "        <path d=\"M19 3H5c-1.1 0-2 .9-2 2v14c0 1.1.9 2 2 2h14c1.1 0 2-.9 2-2V5c0-1.1-.9-2-2-2zM9 17H7v-7h2v7zm4 0h-2V7h2v10zm4 0h-2v-4h2v4z\"/>\n",
              "    </g>\n",
              "</svg>\n",
              "      </button>\n",
              "    </div>\n",
              "\n",
              "<style>\n",
              "  .colab-df-quickchart {\n",
              "    background-color: #E8F0FE;\n",
              "    border: none;\n",
              "    border-radius: 50%;\n",
              "    cursor: pointer;\n",
              "    display: none;\n",
              "    fill: #1967D2;\n",
              "    height: 32px;\n",
              "    padding: 0 0 0 0;\n",
              "    width: 32px;\n",
              "  }\n",
              "\n",
              "  .colab-df-quickchart:hover {\n",
              "    background-color: #E2EBFA;\n",
              "    box-shadow: 0px 1px 2px rgba(60, 64, 67, 0.3), 0px 1px 3px 1px rgba(60, 64, 67, 0.15);\n",
              "    fill: #174EA6;\n",
              "  }\n",
              "\n",
              "  [theme=dark] .colab-df-quickchart {\n",
              "    background-color: #3B4455;\n",
              "    fill: #D2E3FC;\n",
              "  }\n",
              "\n",
              "  [theme=dark] .colab-df-quickchart:hover {\n",
              "    background-color: #434B5C;\n",
              "    box-shadow: 0px 1px 3px 1px rgba(0, 0, 0, 0.15);\n",
              "    filter: drop-shadow(0px 1px 2px rgba(0, 0, 0, 0.3));\n",
              "    fill: #FFFFFF;\n",
              "  }\n",
              "</style>\n",
              "\n",
              "    <script>\n",
              "      async function quickchart(key) {\n",
              "        const containerElement = document.querySelector('#' + key);\n",
              "        const charts = await google.colab.kernel.invokeFunction(\n",
              "            'suggestCharts', [key], {});\n",
              "      }\n",
              "    </script>\n",
              "\n",
              "      <script>\n",
              "\n",
              "function displayQuickchartButton(domScope) {\n",
              "  let quickchartButtonEl =\n",
              "    domScope.querySelector('#df-dc5417e4-a94f-487b-87e5-6dafb3cbae3e button.colab-df-quickchart');\n",
              "  quickchartButtonEl.style.display =\n",
              "    google.colab.kernel.accessAllowed ? 'block' : 'none';\n",
              "}\n",
              "\n",
              "        displayQuickchartButton(document);\n",
              "      </script>\n",
              "      <style>\n",
              "    .colab-df-container {\n",
              "      display:flex;\n",
              "      flex-wrap:wrap;\n",
              "      gap: 12px;\n",
              "    }\n",
              "\n",
              "    .colab-df-convert {\n",
              "      background-color: #E8F0FE;\n",
              "      border: none;\n",
              "      border-radius: 50%;\n",
              "      cursor: pointer;\n",
              "      display: none;\n",
              "      fill: #1967D2;\n",
              "      height: 32px;\n",
              "      padding: 0 0 0 0;\n",
              "      width: 32px;\n",
              "    }\n",
              "\n",
              "    .colab-df-convert:hover {\n",
              "      background-color: #E2EBFA;\n",
              "      box-shadow: 0px 1px 2px rgba(60, 64, 67, 0.3), 0px 1px 3px 1px rgba(60, 64, 67, 0.15);\n",
              "      fill: #174EA6;\n",
              "    }\n",
              "\n",
              "    [theme=dark] .colab-df-convert {\n",
              "      background-color: #3B4455;\n",
              "      fill: #D2E3FC;\n",
              "    }\n",
              "\n",
              "    [theme=dark] .colab-df-convert:hover {\n",
              "      background-color: #434B5C;\n",
              "      box-shadow: 0px 1px 3px 1px rgba(0, 0, 0, 0.15);\n",
              "      filter: drop-shadow(0px 1px 2px rgba(0, 0, 0, 0.3));\n",
              "      fill: #FFFFFF;\n",
              "    }\n",
              "  </style>\n",
              "\n",
              "      <script>\n",
              "        const buttonEl =\n",
              "          document.querySelector('#df-f47171e9-403a-4129-9a3b-7c7508dc9ce3 button.colab-df-convert');\n",
              "        buttonEl.style.display =\n",
              "          google.colab.kernel.accessAllowed ? 'block' : 'none';\n",
              "\n",
              "        async function convertToInteractive(key) {\n",
              "          const element = document.querySelector('#df-f47171e9-403a-4129-9a3b-7c7508dc9ce3');\n",
              "          const dataTable =\n",
              "            await google.colab.kernel.invokeFunction('convertToInteractive',\n",
              "                                                     [key], {});\n",
              "          if (!dataTable) return;\n",
              "\n",
              "          const docLinkHtml = 'Like what you see? Visit the ' +\n",
              "            '<a target=\"_blank\" href=https://colab.research.google.com/notebooks/data_table.ipynb>data table notebook</a>'\n",
              "            + ' to learn more about interactive tables.';\n",
              "          element.innerHTML = '';\n",
              "          dataTable['output_type'] = 'display_data';\n",
              "          await google.colab.output.renderOutput(dataTable, element);\n",
              "          const docLink = document.createElement('div');\n",
              "          docLink.innerHTML = docLinkHtml;\n",
              "          element.appendChild(docLink);\n",
              "        }\n",
              "      </script>\n",
              "    </div>\n",
              "  </div>\n"
            ]
          },
          "metadata": {},
          "execution_count": 34
        }
      ]
    },
    {
      "cell_type": "markdown",
      "source": [
        "# Q2. Writing a SQL Query that directly answers the Stakeholders question"
      ],
      "metadata": {
        "id": "Qw5FcOBVoUCe"
      }
    },
    {
      "cell_type": "code",
      "source": [
        "import sqlite3"
      ],
      "metadata": {
        "id": "Fjjrku_RoTIZ"
      },
      "execution_count": 35,
      "outputs": []
    },
    {
      "cell_type": "code",
      "source": [
        "conn = sqlite3.connect(':memory:')"
      ],
      "metadata": {
        "id": "cD_ONPjfKnKt"
      },
      "execution_count": 36,
      "outputs": []
    },
    {
      "cell_type": "code",
      "source": [
        "# Dropping duplicates and loading the users table to SQL\n",
        "\n",
        "df_users.drop_duplicates(subset=['user_id']).to_sql('users',con=conn)"
      ],
      "metadata": {
        "colab": {
          "base_uri": "https://localhost:8080/",
          "height": 353
        },
        "id": "EELj07huKscN",
        "outputId": "2c8f5e4d-00e1-40bc-b2e9-81e89f36177a"
      },
      "execution_count": 38,
      "outputs": [
        {
          "output_type": "error",
          "ename": "ValueError",
          "evalue": "ignored",
          "traceback": [
            "\u001b[0;31m---------------------------------------------------------------------------\u001b[0m",
            "\u001b[0;31mValueError\u001b[0m                                Traceback (most recent call last)",
            "\u001b[0;32m<ipython-input-38-adbcccc77db8>\u001b[0m in \u001b[0;36m<cell line: 3>\u001b[0;34m()\u001b[0m\n\u001b[1;32m      1\u001b[0m \u001b[0;31m# Dropping duplicates and loading the users table to SQL\u001b[0m\u001b[0;34m\u001b[0m\u001b[0;34m\u001b[0m\u001b[0m\n\u001b[1;32m      2\u001b[0m \u001b[0;34m\u001b[0m\u001b[0m\n\u001b[0;32m----> 3\u001b[0;31m \u001b[0mdf_users\u001b[0m\u001b[0;34m.\u001b[0m\u001b[0mdrop_duplicates\u001b[0m\u001b[0;34m(\u001b[0m\u001b[0msubset\u001b[0m\u001b[0;34m=\u001b[0m\u001b[0;34m[\u001b[0m\u001b[0;34m'user_id'\u001b[0m\u001b[0;34m]\u001b[0m\u001b[0;34m)\u001b[0m\u001b[0;34m.\u001b[0m\u001b[0mto_sql\u001b[0m\u001b[0;34m(\u001b[0m\u001b[0;34m'users'\u001b[0m\u001b[0;34m,\u001b[0m\u001b[0mcon\u001b[0m\u001b[0;34m=\u001b[0m\u001b[0mconn\u001b[0m\u001b[0;34m)\u001b[0m\u001b[0;34m\u001b[0m\u001b[0;34m\u001b[0m\u001b[0m\n\u001b[0m",
            "\u001b[0;32m/usr/local/lib/python3.10/dist-packages/pandas/core/generic.py\u001b[0m in \u001b[0;36mto_sql\u001b[0;34m(self, name, con, schema, if_exists, index, index_label, chunksize, dtype, method)\u001b[0m\n\u001b[1;32m   2985\u001b[0m         \u001b[0;32mfrom\u001b[0m \u001b[0mpandas\u001b[0m\u001b[0;34m.\u001b[0m\u001b[0mio\u001b[0m \u001b[0;32mimport\u001b[0m \u001b[0msql\u001b[0m\u001b[0;34m\u001b[0m\u001b[0;34m\u001b[0m\u001b[0m\n\u001b[1;32m   2986\u001b[0m \u001b[0;34m\u001b[0m\u001b[0m\n\u001b[0;32m-> 2987\u001b[0;31m         return sql.to_sql(\n\u001b[0m\u001b[1;32m   2988\u001b[0m             \u001b[0mself\u001b[0m\u001b[0;34m,\u001b[0m\u001b[0;34m\u001b[0m\u001b[0;34m\u001b[0m\u001b[0m\n\u001b[1;32m   2989\u001b[0m             \u001b[0mname\u001b[0m\u001b[0;34m,\u001b[0m\u001b[0;34m\u001b[0m\u001b[0;34m\u001b[0m\u001b[0m\n",
            "\u001b[0;32m/usr/local/lib/python3.10/dist-packages/pandas/io/sql.py\u001b[0m in \u001b[0;36mto_sql\u001b[0;34m(frame, name, con, schema, if_exists, index, index_label, chunksize, dtype, method, engine, **engine_kwargs)\u001b[0m\n\u001b[1;32m    693\u001b[0m         )\n\u001b[1;32m    694\u001b[0m \u001b[0;34m\u001b[0m\u001b[0m\n\u001b[0;32m--> 695\u001b[0;31m     return pandas_sql.to_sql(\n\u001b[0m\u001b[1;32m    696\u001b[0m         \u001b[0mframe\u001b[0m\u001b[0;34m,\u001b[0m\u001b[0;34m\u001b[0m\u001b[0;34m\u001b[0m\u001b[0m\n\u001b[1;32m    697\u001b[0m         \u001b[0mname\u001b[0m\u001b[0;34m,\u001b[0m\u001b[0;34m\u001b[0m\u001b[0;34m\u001b[0m\u001b[0m\n",
            "\u001b[0;32m/usr/local/lib/python3.10/dist-packages/pandas/io/sql.py\u001b[0m in \u001b[0;36mto_sql\u001b[0;34m(self, frame, name, if_exists, index, index_label, schema, chunksize, dtype, method, **kwargs)\u001b[0m\n\u001b[1;32m   2185\u001b[0m             \u001b[0mdtype\u001b[0m\u001b[0;34m=\u001b[0m\u001b[0mdtype\u001b[0m\u001b[0;34m,\u001b[0m\u001b[0;34m\u001b[0m\u001b[0;34m\u001b[0m\u001b[0m\n\u001b[1;32m   2186\u001b[0m         )\n\u001b[0;32m-> 2187\u001b[0;31m         \u001b[0mtable\u001b[0m\u001b[0;34m.\u001b[0m\u001b[0mcreate\u001b[0m\u001b[0;34m(\u001b[0m\u001b[0;34m)\u001b[0m\u001b[0;34m\u001b[0m\u001b[0;34m\u001b[0m\u001b[0m\n\u001b[0m\u001b[1;32m   2188\u001b[0m         \u001b[0;32mreturn\u001b[0m \u001b[0mtable\u001b[0m\u001b[0;34m.\u001b[0m\u001b[0minsert\u001b[0m\u001b[0;34m(\u001b[0m\u001b[0mchunksize\u001b[0m\u001b[0;34m,\u001b[0m \u001b[0mmethod\u001b[0m\u001b[0;34m)\u001b[0m\u001b[0;34m\u001b[0m\u001b[0;34m\u001b[0m\u001b[0m\n\u001b[1;32m   2189\u001b[0m \u001b[0;34m\u001b[0m\u001b[0m\n",
            "\u001b[0;32m/usr/local/lib/python3.10/dist-packages/pandas/io/sql.py\u001b[0m in \u001b[0;36mcreate\u001b[0;34m(self)\u001b[0m\n\u001b[1;32m    827\u001b[0m         \u001b[0;32mif\u001b[0m \u001b[0mself\u001b[0m\u001b[0;34m.\u001b[0m\u001b[0mexists\u001b[0m\u001b[0;34m(\u001b[0m\u001b[0;34m)\u001b[0m\u001b[0;34m:\u001b[0m\u001b[0;34m\u001b[0m\u001b[0;34m\u001b[0m\u001b[0m\n\u001b[1;32m    828\u001b[0m             \u001b[0;32mif\u001b[0m \u001b[0mself\u001b[0m\u001b[0;34m.\u001b[0m\u001b[0mif_exists\u001b[0m \u001b[0;34m==\u001b[0m \u001b[0;34m\"fail\"\u001b[0m\u001b[0;34m:\u001b[0m\u001b[0;34m\u001b[0m\u001b[0;34m\u001b[0m\u001b[0m\n\u001b[0;32m--> 829\u001b[0;31m                 \u001b[0;32mraise\u001b[0m \u001b[0mValueError\u001b[0m\u001b[0;34m(\u001b[0m\u001b[0;34mf\"Table '{self.name}' already exists.\"\u001b[0m\u001b[0;34m)\u001b[0m\u001b[0;34m\u001b[0m\u001b[0;34m\u001b[0m\u001b[0m\n\u001b[0m\u001b[1;32m    830\u001b[0m             \u001b[0;32melif\u001b[0m \u001b[0mself\u001b[0m\u001b[0;34m.\u001b[0m\u001b[0mif_exists\u001b[0m \u001b[0;34m==\u001b[0m \u001b[0;34m\"replace\"\u001b[0m\u001b[0;34m:\u001b[0m\u001b[0;34m\u001b[0m\u001b[0;34m\u001b[0m\u001b[0m\n\u001b[1;32m    831\u001b[0m                 \u001b[0mself\u001b[0m\u001b[0;34m.\u001b[0m\u001b[0mpd_sql\u001b[0m\u001b[0;34m.\u001b[0m\u001b[0mdrop_table\u001b[0m\u001b[0;34m(\u001b[0m\u001b[0mself\u001b[0m\u001b[0;34m.\u001b[0m\u001b[0mname\u001b[0m\u001b[0;34m,\u001b[0m \u001b[0mself\u001b[0m\u001b[0;34m.\u001b[0m\u001b[0mschema\u001b[0m\u001b[0;34m)\u001b[0m\u001b[0;34m\u001b[0m\u001b[0;34m\u001b[0m\u001b[0m\n",
            "\u001b[0;31mValueError\u001b[0m: Table 'users' already exists."
          ]
        }
      ]
    },
    {
      "cell_type": "code",
      "source": [
        "#Renaming the column header to replace \".\" to \"_\" to make it SQL friendly\n",
        "\n",
        "df_receipts_final.columns = df_receipts_final.columns.str.replace(\".\", \"_\")"
      ],
      "metadata": {
        "colab": {
          "base_uri": "https://localhost:8080/"
        },
        "id": "Lf9J1m6cLCQD",
        "outputId": "54b718c4-b8ec-4cb2-f671-2198ade3effa"
      },
      "execution_count": 39,
      "outputs": [
        {
          "output_type": "stream",
          "name": "stderr",
          "text": [
            "<ipython-input-39-1f003eed476e>:1: FutureWarning: The default value of regex will change from True to False in a future version. In addition, single character regular expressions will *not* be treated as literal strings when regex=True.\n",
            "  df_receipts_final.columns = df_receipts_final.columns.str.replace(\".\", \"_\")\n"
          ]
        }
      ]
    },
    {
      "cell_type": "code",
      "source": [
        "#Dropping the original rewardsReceiptItemList column and loading the Receipts table to SQL\n",
        "\n",
        "df_receipts_final.drop(columns=['rewardsReceiptItemList'],axis=1).to_sql('receipts',con=conn)"
      ],
      "metadata": {
        "colab": {
          "base_uri": "https://localhost:8080/"
        },
        "id": "lVFjVZJdLS2A",
        "outputId": "65f3dba3-6d2f-4f02-e348-efc64737e026"
      },
      "execution_count": 40,
      "outputs": [
        {
          "output_type": "execute_result",
          "data": {
            "text/plain": [
              "7381"
            ]
          },
          "metadata": {},
          "execution_count": 40
        }
      ]
    },
    {
      "cell_type": "code",
      "source": [
        "#Dropping duplicates and loading the brands table to SQL\n",
        "\n",
        "df_brands.drop_duplicates(subset=['brand_id']).to_sql('brands',con=conn)"
      ],
      "metadata": {
        "colab": {
          "base_uri": "https://localhost:8080/"
        },
        "id": "JcPjAV4LLoQi",
        "outputId": "35d05bb1-4d53-4cba-cd59-063bc49ed25e"
      },
      "execution_count": 44,
      "outputs": [
        {
          "output_type": "execute_result",
          "data": {
            "text/plain": [
              "1167"
            ]
          },
          "metadata": {},
          "execution_count": 44
        }
      ]
    },
    {
      "cell_type": "code",
      "source": [
        "#SQL Query to find whether average spend is higher for rewardsReceiptStatus of 'Accepted' or 'Rejected'\n",
        "\n",
        "query = '''\n",
        "SELECT \"Finished\" AS Status, avg(totalSpent) from receipts\n",
        "WHERE rewardsReceiptStatus in (\"FINISHED\")\n",
        "UNION\n",
        "SELECT \"Rejected\", avg(totalSpent) from receipts\n",
        "WHERE rewardsReceiptStatus = \"REJECTED\"\n",
        "'''"
      ],
      "metadata": {
        "id": "RhZl3kZRSWMg"
      },
      "execution_count": 60,
      "outputs": []
    },
    {
      "cell_type": "code",
      "source": [
        "# Ranking total spent for all statuses\n",
        "\n",
        "query = '''\n",
        "SELECT rewardsReceiptStatus, avg(totalSpent) as TotalSpent from receipts\n",
        "GROUP BY rewardsReceiptStatus\n",
        "ORDER BY TotalSpent DESC\n",
        "'''"
      ],
      "metadata": {
        "id": "dn4kn1NPBXh6"
      },
      "execution_count": 132,
      "outputs": []
    },
    {
      "cell_type": "code",
      "source": [
        "# Execute the SQL query using the SQL engine\n",
        "result = pd.read_sql_query(query, conn)\n",
        "\n",
        "# Print the resulting DataFrame\n",
        "print(result)"
      ],
      "metadata": {
        "colab": {
          "base_uri": "https://localhost:8080/"
        },
        "id": "Owq27DseUBIx",
        "outputId": "d79bfe2f-d065-4615-c060-4117c388559c"
      },
      "execution_count": 133,
      "outputs": [
        {
          "output_type": "stream",
          "name": "stdout",
          "text": [
            "  rewardsReceiptStatus   TotalSpent\n",
            "0              FLAGGED  2635.570247\n",
            "1             FINISHED  1244.372934\n",
            "2              PENDING    28.032449\n",
            "3             REJECTED    19.544970\n",
            "4            SUBMITTED          NaN\n"
          ]
        }
      ]
    },
    {
      "cell_type": "markdown",
      "source": [
        "We can see that Finshed does have a higher average spent amount than the rejected receipts. It can also be observed that the \"Flagged\" receipts have the highest average spent value"
      ],
      "metadata": {
        "id": "Cyy0hWc2BhB9"
      }
    },
    {
      "cell_type": "code",
      "source": [
        "# Which brand has the most spend among users who were created within the past 6 months?\n",
        "\n",
        "# Note: For this query, instead of using the current date, the lastest date of the created user from the Users table has been used, since the latest date is in 2021 February\n",
        "\n",
        "query2 = '''\n",
        "SELECT\n",
        "  r.rewardsReceiptItemList_brandCode as BrandCode,\n",
        "  SUM(r.totalSpent) as TotalSpent\n",
        "FROM\n",
        "  receipts r\n",
        "WHERE\n",
        "  r.userID\n",
        "IN\n",
        "  (\n",
        "    SELECT user_id from users u where u.createdDate > (SELECT DATE('2021-02-12','-6 months'))\n",
        "  )\n",
        "AND r.rewardsReceiptItemList_brandCode NOT NULL\n",
        "GROUP BY r.rewardsReceiptItemList_brandCode\n",
        "ORDER BY TotalSpent DESC\n",
        "LIMIT 1;\n",
        "'''\n",
        "\n"
      ],
      "metadata": {
        "id": "D-BTbsqDU2I-"
      },
      "execution_count": 72,
      "outputs": []
    },
    {
      "cell_type": "code",
      "source": [
        "# Execute the SQL query using the SQL engine\n",
        "result2 = pd.read_sql_query(query2, conn)\n",
        "\n",
        "# Print the resulting DataFrame\n",
        "print(result2)"
      ],
      "metadata": {
        "colab": {
          "base_uri": "https://localhost:8080/"
        },
        "id": "7UwPmYoZCnTF",
        "outputId": "403a450b-0fb8-4034-d374-affc24d49820"
      },
      "execution_count": 134,
      "outputs": [
        {
          "output_type": "stream",
          "name": "stdout",
          "text": [
            "        BrandCode  TotalSpent\n",
            "0  BEN AND JERRYS   197337.68\n"
          ]
        }
      ]
    },
    {
      "cell_type": "markdown",
      "source": [
        "Within the users created in the last 6 months, we can see that Ben and Jerry's brand has the most spent amount associated with it"
      ],
      "metadata": {
        "id": "qeOP4K9sCssq"
      }
    },
    {
      "cell_type": "code",
      "source": [
        "# Which brand has the most transactions among users who were created within the past 6 months?\n",
        "\n",
        "# Note: For this query, instead of using the current date, the lastest date of the created user from the Users table has been used, since the latest date is in 2021 February\n",
        "\n",
        "query2_1 = '''\n",
        "SELECT\n",
        "  r.rewardsReceiptItemList_brandCode as BrandCode,\n",
        "  COUNT(*) as NumberOfTransactions\n",
        "FROM\n",
        "  receipts r\n",
        "WHERE\n",
        "  r.userID\n",
        "IN\n",
        "  (\n",
        "    SELECT user_id from users u where u.createdDate > (SELECT DATE('2021-02-12','-6 months'))\n",
        "  )\n",
        "AND r.rewardsReceiptItemList_brandCode NOT NULL\n",
        "GROUP BY r.rewardsReceiptItemList_brandCode\n",
        "ORDER BY NumberOfTransactions DESC\n",
        "LIMIT 1;\n",
        "'''"
      ],
      "metadata": {
        "id": "HUOekqW02uyM"
      },
      "execution_count": 124,
      "outputs": []
    },
    {
      "cell_type": "code",
      "source": [
        "# Execute the SQL query using the SQL engine\n",
        "result2 = pd.read_sql_query(query2_1, conn)\n",
        "\n",
        "# Print the resulting DataFrame\n",
        "print(result2)"
      ],
      "metadata": {
        "colab": {
          "base_uri": "https://localhost:8080/"
        },
        "id": "vRLPaSLwYRK4",
        "outputId": "5d50560a-5ad6-48fa-e6ea-f225895c9dba"
      },
      "execution_count": 125,
      "outputs": [
        {
          "output_type": "stream",
          "name": "stdout",
          "text": [
            "  BrandCode  NumberOfTransactions\n",
            "0    HY-VEE                   291\n"
          ]
        }
      ]
    },
    {
      "cell_type": "markdown",
      "source": [
        "For the users created in the last 6 months, HY-VEE brand has the most number of transactions"
      ],
      "metadata": {
        "id": "2YF9m00WC1k4"
      }
    },
    {
      "cell_type": "markdown",
      "source": [
        "#Q3. Evaluate Data Quality Issues in the Data Provided"
      ],
      "metadata": {
        "id": "uS1mfe0eZtdD"
      }
    },
    {
      "cell_type": "markdown",
      "source": [
        "To inspect data quality, I will be checking the completeness of the dimension tables Users and Brands by doing referential integrity checks between the Receipts table and the Users and brands"
      ],
      "metadata": {
        "id": "IL4eyRBaZ1s-"
      }
    },
    {
      "cell_type": "code",
      "source": [
        "query3 = '''\n",
        "SELECT userID from receipts\n",
        "where userID NOT IN\n",
        "(SELECT user_id from users)\n",
        "'''"
      ],
      "metadata": {
        "id": "b5eS4PryZv65"
      },
      "execution_count": 87,
      "outputs": []
    },
    {
      "cell_type": "code",
      "source": [
        "# Execute the SQL query using the SQL engine\n",
        "result3 = pd.read_sql_query(query3, conn)\n",
        "\n",
        "# Print the resulting DataFrame\n",
        "print(result3)"
      ],
      "metadata": {
        "colab": {
          "base_uri": "https://localhost:8080/"
        },
        "id": "8D64Nqxead7Y",
        "outputId": "7dc03772-a8a8-4454-f093-656a6557293e"
      },
      "execution_count": 88,
      "outputs": [
        {
          "output_type": "stream",
          "name": "stdout",
          "text": [
            "                        userId\n",
            "0     5f9c74f7c88c1415cbddb839\n",
            "1     5f9c74f7c88c1415cbddb839\n",
            "2     5f9c74f7c88c1415cbddb839\n",
            "3     5f9c74f7c88c1415cbddb839\n",
            "4     5f9c74f7c88c1415cbddb839\n",
            "...                        ...\n",
            "2605  60253861efa6017a44dc6b50\n",
            "2606  60253891b54593795bf69242\n",
            "2607  60253891b54593795bf69242\n",
            "2608  60268c7bb545931ac63683af\n",
            "2609  60268c78efa6011bb151077d\n",
            "\n",
            "[2610 rows x 1 columns]\n"
          ]
        }
      ]
    },
    {
      "cell_type": "markdown",
      "source": [
        "We can see that there are 2610 userIDs in the receipts table which are not present in the reference Users table. This could be problematic as there will be a large loss of data while joining and querying between the Users and Receipts table"
      ],
      "metadata": {
        "id": "pZtYIo1oaiPb"
      }
    },
    {
      "cell_type": "code",
      "source": [
        "query4 = '''\n",
        "SELECT count(rewardsReceiptItemList_brandCode) from receipts\n",
        "where rewardsReceiptItemList_brandCode NOT IN\n",
        "(SELECT brandCode from brands)\n",
        "'''"
      ],
      "metadata": {
        "id": "5M5iazeQavUv"
      },
      "execution_count": 79,
      "outputs": []
    },
    {
      "cell_type": "code",
      "source": [
        "# Execute the SQL query using the SQL engine\n",
        "result4 = pd.read_sql_query(query4, conn)\n",
        "\n",
        "# Print the resulting DataFrame\n",
        "print(result4)"
      ],
      "metadata": {
        "colab": {
          "base_uri": "https://localhost:8080/"
        },
        "id": "KcavvEhobadw",
        "outputId": "32eeedac-7495-4d42-8624-8f76ce7149e9"
      },
      "execution_count": 80,
      "outputs": [
        {
          "output_type": "stream",
          "name": "stdout",
          "text": [
            "   count(rewardsReceiptItemList_brandCode)\n",
            "0                                        0\n"
          ]
        }
      ]
    },
    {
      "cell_type": "markdown",
      "source": [
        "The brandCodes in the receipts table do match with the brandCodes in the brand table, however, there are a lot of brand code records with NULL brandCode, which may need further investigation"
      ],
      "metadata": {
        "id": "2YFOtvB2i52R"
      }
    },
    {
      "cell_type": "code",
      "source": [
        "#Next, we will be checking if the barcodes in the receipts table match with the barcode field in the brands table\n",
        "\n",
        "query5 = '''\n",
        "SELECT count(DISTINCT rewardsReceiptItemList_barcode) from receipts\n",
        "WHERE rewardsReceiptItemList_barcode NOT IN\n",
        "(SELECT barcode from brands)'''"
      ],
      "metadata": {
        "id": "YNFOHMvAc-vb"
      },
      "execution_count": 102,
      "outputs": []
    },
    {
      "cell_type": "code",
      "source": [
        "result5 = pd.read_sql_query(query5, conn)\n",
        "\n",
        "# Print the resulting DataFrame\n",
        "print(result5)"
      ],
      "metadata": {
        "colab": {
          "base_uri": "https://localhost:8080/"
        },
        "id": "BINdj4t3jSLS",
        "outputId": "37f52cde-e45f-4813-a066-976cbfc4388a"
      },
      "execution_count": 103,
      "outputs": [
        {
          "output_type": "stream",
          "name": "stdout",
          "text": [
            "   count(DISTINCT rewardsReceiptItemList_barcode)\n",
            "0                                             552\n"
          ]
        }
      ]
    },
    {
      "cell_type": "code",
      "source": [
        "query6 = ''' SELECT count(DISTINCT rewardsReceiptItemList_barcode) from receipts'''"
      ],
      "metadata": {
        "id": "BqQI5Otqfc3x"
      },
      "execution_count": 105,
      "outputs": []
    },
    {
      "cell_type": "code",
      "source": [
        "result6 = pd.read_sql_query(query6, conn)\n",
        "\n",
        "# Print the resulting DataFrame\n",
        "print(result6)"
      ],
      "metadata": {
        "colab": {
          "base_uri": "https://localhost:8080/"
        },
        "id": "ymlxNZivf9dm",
        "outputId": "ed07aa4b-8458-4ca2-897e-1e4f1005fe12"
      },
      "execution_count": 106,
      "outputs": [
        {
          "output_type": "stream",
          "name": "stdout",
          "text": [
            "   count(DISTINCT rewardsReceiptItemList_barcode)\n",
            "0                                             568\n"
          ]
        }
      ]
    },
    {
      "cell_type": "markdown",
      "source": [
        "Out of the 568 unique barcodes in the receipts table, there are 552 barcodes which do not match with the barcodes in the brand table. Even though the documentation says barcode of the brands table refers to barcode of the item, further clarification might be needed from stakeholers on the source of the different barcodes"
      ],
      "metadata": {
        "id": "z_LOg6C6jeIG"
      }
    },
    {
      "cell_type": "markdown",
      "source": [
        "Checking for NULLS"
      ],
      "metadata": {
        "id": "XhuMcKCflWij"
      }
    },
    {
      "cell_type": "code",
      "source": [
        "query7 = ''' SELECT COUNT(*) from receipts where userID IS NULL'''\n",
        "\n",
        "result7 = pd.read_sql_query(query7, conn)\n",
        "print(result7)"
      ],
      "metadata": {
        "colab": {
          "base_uri": "https://localhost:8080/"
        },
        "id": "gD6J1g_3k_8f",
        "outputId": "0d5a7923-b109-44a2-83c9-254708da97ca"
      },
      "execution_count": 109,
      "outputs": [
        {
          "output_type": "stream",
          "name": "stdout",
          "text": [
            "   COUNT(*)\n",
            "0         0\n"
          ]
        }
      ]
    },
    {
      "cell_type": "code",
      "source": [
        "query8 = ''' SELECT COUNT(*) from receipts where rewardsReceiptItemList_barcode IS NULL'''\n",
        "\n",
        "result8 = pd.read_sql_query(query8, conn)\n",
        "print(result8)"
      ],
      "metadata": {
        "colab": {
          "base_uri": "https://localhost:8080/"
        },
        "id": "eO44OSCNlPLO",
        "outputId": "32dabd99-6548-4e63-acde-222f53900725"
      },
      "execution_count": 110,
      "outputs": [
        {
          "output_type": "stream",
          "name": "stdout",
          "text": [
            "   COUNT(*)\n",
            "0      4291\n"
          ]
        }
      ]
    },
    {
      "cell_type": "code",
      "source": [
        "query9 = ''' SELECT COUNT(*) from receipts where rewardsReceiptItemList_brandCode IS NULL'''\n",
        "\n",
        "result9 = pd.read_sql_query(query9, conn)\n",
        "print(result9)"
      ],
      "metadata": {
        "colab": {
          "base_uri": "https://localhost:8080/"
        },
        "id": "fdspaLwklbk8",
        "outputId": "15c991dc-7967-4a6f-fa1c-e7bebe3326cd"
      },
      "execution_count": 111,
      "outputs": [
        {
          "output_type": "stream",
          "name": "stdout",
          "text": [
            "   COUNT(*)\n",
            "0      4781\n"
          ]
        }
      ]
    },
    {
      "cell_type": "markdown",
      "source": [
        "We can see that a lot of the receipts table entires are NULL for barcodes and brandCodes. It might be problematic as these seem to be the the identifiers for the item which is being billed. Not having a consistent identifier can make it difficult to track the revenues as well as in modeling the data efficiently."
      ],
      "metadata": {
        "id": "j5_mq3tZlmMU"
      }
    }
  ]
}